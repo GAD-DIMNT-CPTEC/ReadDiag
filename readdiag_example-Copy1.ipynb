{
 "cells": [
  {
   "cell_type": "markdown",
   "metadata": {},
   "source": [
    "# Exploring GSI's diagnostic files with Python\n",
    "\n",
    "In order to facilitate the access to the contents of the [Gridpoint Statistical Interpolation (GSI)](https://dtcenter.org/community-code/gridpoint-statistical-interpolation-gsi) diagnostic files, it has been written the [readDiag](https://github.com/GAD-DIMNT-CPTEC/readDiag) package wich is Fortran/Python interface that aims to read the GSI diagnostic binary files and create appropriate data structures to it. This Jupyter notebook is a simple walkthrough to its usage.\n",
    "\n",
    "## Usage\n",
    "\n",
    "In order to use the readDiag, first one need to load the `gsidiag` Fortran/Python module. This module can be loaded just like any other Python package:"
   ]
  },
  {
   "cell_type": "code",
   "execution_count": 1,
   "metadata": {},
   "outputs": [],
   "source": [
    "import gsidiag as gd"
   ]
  },
  {
   "cell_type": "markdown",
   "metadata": {},
   "source": [
    "With the module loaded, open a file containing the GSI diagnostic information. In this example, the file `diag_conv_01.2020031112` (with ~64 Mb) is a diagnostic file provided by the GSI containing information from conventional observations used in the minimization of a 3DVar cost function for the date 2020031112. This file is provided to the user for testing purposes only.\n",
    "\n",
    "For this, we will create the object `file` from which we will use the builtin methods and functions of the readDiag.\n",
    "\n",
    "**Note:** the `%%time` is a Jupyter magic command that accounts for the time a command takes to run and it is not required for the use of the readDiag).\n",
    "\n",
    "To load the provided conventional diagnostic file, do as follows:"
   ]
  },
  {
   "cell_type": "code",
   "execution_count": 2,
   "metadata": {},
   "outputs": [
    {
     "name": "stdout",
     "output_type": "stream",
     "text": [
      "CPU times: user 20 s, sys: 385 ms, total: 20.3 s\n",
      "Wall time: 20.3 s\n"
     ]
    }
   ],
   "source": [
    "%%time\n",
    "\n",
    "file = gd.read_diag('./data/diag_conv_01.2020031112')"
   ]
  },
  {
   "cell_type": "markdown",
   "metadata": {},
   "source": [
    "## Get the list of methods and functions\n",
    "\n",
    "The readDiag Fortran/Python interface has several builtin methods and functions. To get a list of the available methods and functions, type `file.` and push the `<TAB>` button twice on the keyboard:\n",
    "\n",
    "```python\n",
    ">>> file.\n",
    "file.close(      file.obsInfo     file.pfileinfo(  file.pvmap(      file.zlevs       \n",
    "file.kxcount(    file.overview(   file.plot(       file.varNames    \n",
    "file.obs         file.pcount(     file.ptmap(      file.vcount(\n",
    "```\n",
    "\n",
    "The builtin methos and functions have documentation which can be accessed using Python's docstrings bu issuing the following command:\n",
    "\n",
    "```python\n",
    "print(object.function_name.__doc__)\n",
    "```"
   ]
  },
  {
   "cell_type": "markdown",
   "metadata": {},
   "source": [
    "## Retrieve file information \n",
    "\n",
    "Now, let's get the basic information contained inside the GSI conventional diagnostic file. The information are related to the binary file itself as well as the observations and its related contents. Use the function `pfileinfo()` to retrieve what observations and types of observations (`kx`) are available inside the file:"
   ]
  },
  {
   "cell_type": "code",
   "execution_count": 3,
   "metadata": {},
   "outputs": [
    {
     "name": "stdout",
     "output_type": "stream",
     "text": [
      "\n",
      "        Prints a fancy list of the existing variables and types.\n",
      "\n",
      "        Usage: pfileinfo()\n",
      "        \n"
     ]
    }
   ],
   "source": [
    "print(file.pfileinfo.__doc__)"
   ]
  },
  {
   "cell_type": "code",
   "execution_count": 4,
   "metadata": {},
   "outputs": [
    {
     "name": "stdout",
     "output_type": "stream",
     "text": [
      "Variable Name : ps\n",
      "              └── kx => 181  180  120  187  183  \n",
      "\n",
      "Variable Name : t\n",
      "              └── kx => 181  180  120  187  183  130  126  \n",
      "\n",
      "Variable Name : q\n",
      "              └── kx => 181  120  187  180  183  \n",
      "\n",
      "Variable Name : uv\n",
      "              └── kx => 257  258  281  280  253  243  254  220  287  221  284  230  244  259  252  242  250  210  229  224  282  \n",
      "\n"
     ]
    }
   ],
   "source": [
    "file.pfileinfo()"
   ]
  },
  {
   "cell_type": "markdown",
   "metadata": {},
   "source": [
    "Another way to retrieve the file content information is through the method `overview()`:"
   ]
  },
  {
   "cell_type": "code",
   "execution_count": 5,
   "metadata": {},
   "outputs": [
    {
     "name": "stdout",
     "output_type": "stream",
     "text": [
      "\n",
      "        Creates a dictionary of the existing variables and types. Returns a Python dictionary.\n",
      "\n",
      "        Usage: overview()\n",
      "        \n"
     ]
    }
   ],
   "source": [
    "print(file.overview.__doc__)"
   ]
  },
  {
   "cell_type": "code",
   "execution_count": 6,
   "metadata": {},
   "outputs": [
    {
     "data": {
      "text/plain": [
       "{'ps': [181, 180, 120, 187, 183],\n",
       " 't': [181, 180, 120, 187, 183, 130, 126],\n",
       " 'q': [181, 120, 187, 180, 183],\n",
       " 'uv': [257,\n",
       "  258,\n",
       "  281,\n",
       "  280,\n",
       "  253,\n",
       "  243,\n",
       "  254,\n",
       "  220,\n",
       "  287,\n",
       "  221,\n",
       "  284,\n",
       "  230,\n",
       "  244,\n",
       "  259,\n",
       "  252,\n",
       "  242,\n",
       "  250,\n",
       "  210,\n",
       "  229,\n",
       "  224,\n",
       "  282]}"
      ]
     },
     "execution_count": 6,
     "metadata": {},
     "output_type": "execute_result"
    }
   ],
   "source": [
    "file.overview()"
   ]
  },
  {
   "cell_type": "markdown",
   "metadata": {},
   "source": [
    "Another similar way to get a dictionary containing the basic information is with the method `obsInfo`:"
   ]
  },
  {
   "cell_type": "code",
   "execution_count": 7,
   "metadata": {
    "scrolled": false
   },
   "outputs": [
    {
     "data": {
      "text/plain": [
       "{'ps':                   lat         lon    elev          prs     hgt   press   time  \\\n",
       " kx  points                                                                      \n",
       " 181 0      -72.000000    2.520000  1290.0   824.900024  1290.0   800.0 -180.0   \n",
       "     1      -70.760002   11.830000   123.0   958.400024   123.0   900.0    0.0   \n",
       "     2      -72.000000    2.520000  1290.0   824.900024  1290.0   800.0   60.0   \n",
       "     3      -72.000000    2.520000  1290.0   824.900024  1290.0   800.0    0.0   \n",
       "     4      -72.000000    2.520000  1290.0   824.900024  1290.0   800.0 -120.0   \n",
       " ...               ...         ...     ...          ...     ...     ...    ...   \n",
       " 183 3732    66.529999  341.980011    17.0   987.400024    17.0   900.0 -180.0   \n",
       "     3733    65.269997  346.420013    11.0   978.099976    11.0   900.0 -180.0   \n",
       "     3734    49.430000  357.399994   102.0  1003.400024   102.0  1000.0 -120.0   \n",
       "     3735    63.779999  341.929993    38.0   972.099976    38.0   900.0    0.0   \n",
       "     3736    66.529999  341.980011    17.0   988.900024    17.0   900.0    0.0   \n",
       " \n",
       "             idqc  iuse  iusev     wpbqc       inp_err       adj_err  \\\n",
       " kx  points                                                            \n",
       " 181 0        2.0   1.0    0.0  3.893471  1.000000e+00  1.000000e+00   \n",
       "     1        2.0   1.0    0.0  3.999395  1.000000e+00  1.000000e+00   \n",
       "     2        2.0   1.0    0.0  3.912592  1.000000e+00  1.000000e+00   \n",
       "     3        2.0   1.0    0.0  3.874233  1.000000e+00  1.000000e+00   \n",
       "     4        2.0   1.0    0.0  3.871676  1.000000e+00  1.000000e+00   \n",
       " ...          ...   ...    ...       ...           ...           ...   \n",
       " 183 3732     9.0  -1.0  101.0  3.999699  1.000000e-11  1.000000e-11   \n",
       "     3733     9.0  -1.0  101.0  3.999699  1.000000e-11  1.000000e-11   \n",
       "     3734     9.0  -1.0  101.0  3.999699  1.000000e-11  1.000000e-11   \n",
       "     3735     9.0  -1.0  101.0  3.999699  1.000000e-11  1.000000e-11   \n",
       "     3736     9.0  -1.0  101.0  3.999699  1.000000e-11  1.000000e-11   \n",
       " \n",
       "                   inverr           oer          obs       omf  \\\n",
       " kx  points                                                      \n",
       " 181 0       2.296368e-01  4.354702e+00   824.900024  3.434075   \n",
       "     1       4.926434e-01  2.029866e+00   958.400024 -1.181676   \n",
       "     2       2.499149e-01  4.001361e+00   824.900024  3.374524   \n",
       "     3       2.483187e-01  4.027082e+00   824.900024  3.483506   \n",
       "     4       2.286168e-01  4.374131e+00   824.900024  3.489466   \n",
       " ...                  ...           ...          ...       ...   \n",
       " 183 3732    1.000000e-11  1.000000e+11   987.400024  0.497376   \n",
       "     3733    1.000000e-11  1.000000e+11   978.099976 -2.292868   \n",
       "     3734    1.000000e-11  1.000000e+11  1003.400024  0.943315   \n",
       "     3735    1.000000e-11  1.000000e+11   972.099976 -2.327267   \n",
       "     3736    1.000000e-11  1.000000e+11   988.900024  0.669521   \n",
       " \n",
       "                               geometry  \n",
       " kx  points                              \n",
       " 181 0        POINT (2.52000 -72.00000)  \n",
       "     1       POINT (11.83000 -70.76000)  \n",
       "     2        POINT (2.52000 -72.00000)  \n",
       "     3        POINT (2.52000 -72.00000)  \n",
       "     4        POINT (2.52000 -72.00000)  \n",
       " ...                                ...  \n",
       " 183 3732    POINT (-18.02002 66.53000)  \n",
       "     3733    POINT (-13.57996 65.27000)  \n",
       "     3734     POINT (-2.59998 49.43000)  \n",
       "     3735    POINT (-18.07001 63.78000)  \n",
       "     3736    POINT (-18.02002 66.53000)  \n",
       " \n",
       " [86479 rows x 18 columns],\n",
       " 't':                   lat        lon    elev         prs     hgt  press   time  \\\n",
       " kx  points                                                                   \n",
       " 181 0      -72.000000    2.52000  1290.0  824.900024  1290.0  800.0 -180.0   \n",
       "     1      -70.760002   11.83000   123.0  958.400024   123.0  900.0    0.0   \n",
       "     2      -72.000000    2.52000  1290.0  824.900024  1290.0  800.0   60.0   \n",
       "     3      -72.000000    2.52000  1290.0  824.900024  1290.0  800.0    0.0   \n",
       "     4      -72.000000    2.52000  1290.0  824.900024  1290.0  800.0 -120.0   \n",
       " ...               ...        ...     ...         ...     ...    ...    ...   \n",
       " 126 2640    39.709999  280.98999   763.0  879.000000  1183.0  800.0   90.0   \n",
       "     2641    39.709999  280.98999   763.0  872.099976  1247.0  800.0   90.0   \n",
       "     2642    39.709999  280.98999   763.0  865.299988  1312.0  800.0   90.0   \n",
       "     2643    39.709999  280.98999   763.0  858.500000  1376.0  800.0   90.0   \n",
       "     2644    39.709999  280.98999   763.0  851.700012  1441.0  800.0   90.0   \n",
       " \n",
       "             idqc  iuse  iusev     wpbqc       inp_err       adj_err  \\\n",
       " kx  points                                                            \n",
       " 181 0        9.0  -1.0  101.0  3.997126  1.000000e-11  1.000000e-11   \n",
       "     1        9.0  -1.0  101.0  3.997126  1.000000e-11  1.000000e-11   \n",
       "     2        9.0  -1.0  101.0  3.997126  1.000000e-11  1.000000e-11   \n",
       "     3        9.0  -1.0  101.0  3.997126  1.000000e-11  1.000000e-11   \n",
       "     4        9.0  -1.0  101.0  3.997126  1.000000e-11  1.000000e-11   \n",
       " ...          ...   ...    ...       ...           ...           ...   \n",
       " 126 2640     9.0  -1.0  101.0  3.999373  1.000000e-11  1.000000e-17   \n",
       "     2641     9.0  -1.0  101.0  3.999373  1.000000e-11  1.000000e-17   \n",
       "     2642     9.0  -1.0  101.0  3.999373  1.000000e-11  1.000000e-17   \n",
       "     2643     9.0  -1.0  101.0  3.999373  1.000000e-11  1.000000e-17   \n",
       "     2644     9.0  -1.0  101.0  3.999373  1.000000e-11  1.000000e-17   \n",
       " \n",
       "                   inverr           oer         obs        omf  \\\n",
       " kx  points                                                      \n",
       " 181 0       9.090909e-12  1.100000e+11  257.250000  10.005481   \n",
       "     1       9.090909e-12  1.100000e+11  263.350006   8.443922   \n",
       "     2       9.090909e-12  1.100000e+11  257.149994   7.287628   \n",
       "     3       9.090909e-12  1.100000e+11  257.350006   7.147639   \n",
       "     4       9.090909e-12  1.100000e+11  257.850006   9.619534   \n",
       " ...                  ...           ...         ...        ...   \n",
       " 126 2640    1.000000e-17  1.000000e+17  278.750000  -0.777656   \n",
       "     2641    1.000000e-17  1.000000e+17  277.850006  -1.536891   \n",
       "     2642    1.000000e-17  1.000000e+17  277.950012  -1.106795   \n",
       "     2643    1.000000e-17  1.000000e+17  277.649994  -1.074093   \n",
       "     2644    1.000000e-17  1.000000e+17  278.250000  -0.125823   \n",
       " \n",
       "                               geometry  \n",
       " kx  points                              \n",
       " 181 0        POINT (2.52000 -72.00000)  \n",
       "     1       POINT (11.83000 -70.76000)  \n",
       "     2        POINT (2.52000 -72.00000)  \n",
       "     3        POINT (2.52000 -72.00000)  \n",
       "     4        POINT (2.52000 -72.00000)  \n",
       " ...                                ...  \n",
       " 126 2640    POINT (-79.01001 39.71000)  \n",
       "     2641    POINT (-79.01001 39.71000)  \n",
       "     2642    POINT (-79.01001 39.71000)  \n",
       "     2643    POINT (-79.01001 39.71000)  \n",
       "     2644    POINT (-79.01001 39.71000)  \n",
       " \n",
       " [119806 rows x 18 columns],\n",
       " 'q':                   lat         lon    elev          prs     hgt   press   time  \\\n",
       " kx  points                                                                      \n",
       " 181 0      -72.000000    2.520000  1290.0   824.900024  1290.0   800.0 -180.0   \n",
       "     1      -70.760002   11.830000   123.0   958.400024   123.0   900.0    0.0   \n",
       "     2      -72.000000    2.520000  1290.0   824.900024  1290.0   800.0   60.0   \n",
       "     3      -72.000000    2.520000  1290.0   824.900024  1290.0   800.0    0.0   \n",
       "     4      -72.000000    2.520000  1290.0   824.900024  1290.0   800.0 -120.0   \n",
       " ...               ...         ...     ...          ...     ...     ...    ...   \n",
       " 183 2879    66.529999  341.980011    17.0   987.400024    17.0   900.0 -180.0   \n",
       "     2880    65.269997  346.420013    11.0   978.099976    11.0   900.0 -180.0   \n",
       "     2881    49.430000  357.399994   102.0  1003.400024   102.0  1000.0 -120.0   \n",
       "     2882    63.779999  341.929993    38.0   972.099976    38.0   900.0    0.0   \n",
       "     2883    66.529999  341.980011    17.0   988.900024    17.0   900.0    0.0   \n",
       " \n",
       "             idqc  iuse  iusev     wpbqc   inp_err   adj_err    inverr  \\\n",
       " kx  points                                                              \n",
       " 181 0        9.0  -1.0  101.0  3.999686  0.000168  0.000168  0.000168   \n",
       "     1        9.0  -1.0  101.0  3.999686  0.000101  0.000101  0.000101   \n",
       "     2        9.0  -1.0  101.0  3.999686  0.000134  0.000134  0.000134   \n",
       "     3        9.0  -1.0  101.0  3.999686  0.000130  0.000130  0.000130   \n",
       "     4        9.0  -1.0  101.0  3.999686  0.000153  0.000153  0.000153   \n",
       " ...          ...   ...    ...       ...       ...       ...       ...   \n",
       " 183 2879     9.0  -1.0  102.0  3.999624  0.000027  0.000027  0.000027   \n",
       "     2880     9.0  -1.0  102.0  3.999624  0.000024  0.000024  0.000024   \n",
       "     2881     9.0  -1.0  102.0  3.999624  0.000012  0.000012  0.000012   \n",
       "     2882     9.0  -1.0  102.0  3.999624  0.000025  0.000025  0.000025   \n",
       "     2883     9.0  -1.0  102.0  3.999624  0.000027  0.000027  0.000027   \n",
       " \n",
       "                      oer    obs       omf                    geometry  \n",
       " kx  points                                                             \n",
       " 181 0       5.943092e+09  0.642  0.401663   POINT (2.52000 -72.00000)  \n",
       "     1       9.868145e+09  0.704  0.184449  POINT (11.83000 -70.76000)  \n",
       "     2       7.483589e+09  0.660  0.312951   POINT (2.52000 -72.00000)  \n",
       "     3       7.715163e+09  0.608  0.291117   POINT (2.52000 -72.00000)  \n",
       "     4       6.533783e+09  0.620  0.354148   POINT (2.52000 -72.00000)  \n",
       " ...                  ...    ...       ...                         ...  \n",
       " 183 2879    3.765171e+10  3.137  0.039949  POINT (-18.02002 66.53000)  \n",
       "     2880    4.089849e+10  4.404  0.688853  POINT (-13.57996 65.27000)  \n",
       "     2881    8.171652e+10  7.961  0.332091   POINT (-2.59998 49.43000)  \n",
       "     2882    4.010423e+10  2.804 -0.628379  POINT (-18.07001 63.78000)  \n",
       "     2883    3.650832e+10  3.017  0.002453  POINT (-18.02002 66.53000)  \n",
       " \n",
       " [106269 rows x 18 columns],\n",
       " 'uv':                   lat         lon     elev          prs   hgt   press   time  \\\n",
       " kx  points                                                                     \n",
       " 257 0      -86.449997    4.660000  61056.0   350.000000  41.0   300.0  -98.0   \n",
       "     1       68.099998   16.809999  81080.0   550.000000  52.0   500.0  -48.0   \n",
       "     2       68.099998   14.390000  69073.0   475.000000  32.0   400.0  -48.0   \n",
       "     3       67.709999   17.830000  68073.0   587.000000  36.0   500.0  -48.0   \n",
       "     4       67.980003   13.280000  61068.0   487.000000  25.0   400.0  -48.0   \n",
       " ...               ...         ...      ...          ...   ...     ...    ...   \n",
       " 282 199      1.900000  264.500000      0.0  1009.716980  20.0  1000.0   60.0   \n",
       "     200      1.900000  264.500000      0.0  1009.551941  20.0  1000.0  -60.0   \n",
       "     201      1.900000  264.500000      0.0  1009.789490  20.0  1000.0  120.0   \n",
       "     202      1.900000  264.500000      0.0  1009.366821  20.0  1000.0 -180.0   \n",
       "     203      1.900000  264.500000      0.0  1009.644531  20.0  1000.0    0.0   \n",
       " \n",
       "             idqc  iuse  iusev     wpbqc   inp_err   adj_err        inverr  \\\n",
       " kx  points                                                                  \n",
       " 257 0        2.0   1.0    0.0  3.987122  0.158730  0.158730  1.587301e-01   \n",
       "     1        2.0   1.0    0.0  3.972124  0.250000  0.250000  2.500000e-01   \n",
       "     2        2.0   1.0    0.0  3.974319  0.219780  0.219780  2.197802e-01   \n",
       "     3        2.0  -1.0    0.0  1.000000  0.250000  0.250000  2.938736e-39   \n",
       "     4        2.0   1.0    0.0  3.966050  0.230734  0.230734  2.307337e-01   \n",
       " ...          ...   ...    ...       ...       ...       ...           ...   \n",
       " 282 199      2.0   1.0    0.0  3.973792  0.454545  0.454545  1.967942e-01   \n",
       "     200      2.0   1.0    0.0  3.992598  0.454545  0.454545  1.942808e-01   \n",
       "     201      2.0   1.0    0.0  3.990781  0.454545  0.454545  2.010269e-01   \n",
       "     202      2.0   1.0    0.0  3.985443  0.454545  0.454545  2.010269e-01   \n",
       "     203      2.0   1.0    0.0  3.962385  0.454545  0.454545  1.942808e-01   \n",
       " \n",
       "                      oer        obs       omf                   geometry  \n",
       " kx  points                                                                \n",
       " 257 0       6.300000e+00  -2.569993 -0.547760  POINT (4.66000 -86.45000)  \n",
       "     1       4.000000e+00   8.553662  4.964206  POINT (16.81000 68.10000)  \n",
       "     2       4.550000e+00  11.719213  4.831792  POINT (14.39000 68.10000)  \n",
       "     3      -1.000000e+15  11.682516  8.523585  POINT (17.83000 67.71000)  \n",
       "     4       4.334000e+00  12.741393  6.365394  POINT (13.28000 67.98000)  \n",
       " ...                  ...        ...       ...                        ...  \n",
       " 282 199     5.081450e+00   2.000000  2.684659  POINT (-95.50000 1.90000)  \n",
       "     200     5.147189e+00   1.000000  1.796477  POINT (-95.50000 1.90000)  \n",
       "     201     4.974460e+00   1.000000  1.545947  POINT (-95.50000 1.90000)  \n",
       "     202     4.974460e+00   1.400000  2.060712  POINT (-95.50000 1.90000)  \n",
       "     203     5.147189e+00   2.000000  2.838662  POINT (-95.50000 1.90000)  \n",
       " \n",
       " [402891 rows x 18 columns]}"
      ]
     },
     "execution_count": 7,
     "metadata": {},
     "output_type": "execute_result"
    }
   ],
   "source": [
    "file.obsInfo"
   ]
  },
  {
   "cell_type": "markdown",
   "metadata": {},
   "source": [
    "Note that the previous command returned a dictionary with all the information for all the available observations and types. To filter out these information by the observations, you may use the following commands:"
   ]
  },
  {
   "cell_type": "code",
   "execution_count": 13,
   "metadata": {},
   "outputs": [
    {
     "data": {
      "text/plain": [
       "dict_keys(['ps', 't', 'q', 'uv'])"
      ]
     },
     "execution_count": 13,
     "metadata": {},
     "output_type": "execute_result"
    }
   ],
   "source": [
    "file.obsInfo.keys()"
   ]
  },
  {
   "cell_type": "code",
   "execution_count": 14,
   "metadata": {},
   "outputs": [
    {
     "data": {
      "text/html": [
       "<div>\n",
       "<style scoped>\n",
       "    .dataframe tbody tr th:only-of-type {\n",
       "        vertical-align: middle;\n",
       "    }\n",
       "\n",
       "    .dataframe tbody tr th {\n",
       "        vertical-align: top;\n",
       "    }\n",
       "\n",
       "    .dataframe thead th {\n",
       "        text-align: right;\n",
       "    }\n",
       "</style>\n",
       "<table border=\"1\" class=\"dataframe\">\n",
       "  <thead>\n",
       "    <tr style=\"text-align: right;\">\n",
       "      <th></th>\n",
       "      <th></th>\n",
       "      <th>lat</th>\n",
       "      <th>lon</th>\n",
       "      <th>elev</th>\n",
       "      <th>prs</th>\n",
       "      <th>hgt</th>\n",
       "      <th>press</th>\n",
       "      <th>time</th>\n",
       "      <th>idqc</th>\n",
       "      <th>iuse</th>\n",
       "      <th>iusev</th>\n",
       "      <th>wpbqc</th>\n",
       "      <th>inp_err</th>\n",
       "      <th>adj_err</th>\n",
       "      <th>inverr</th>\n",
       "      <th>oer</th>\n",
       "      <th>obs</th>\n",
       "      <th>omf</th>\n",
       "      <th>geometry</th>\n",
       "    </tr>\n",
       "    <tr>\n",
       "      <th>kx</th>\n",
       "      <th>points</th>\n",
       "      <th></th>\n",
       "      <th></th>\n",
       "      <th></th>\n",
       "      <th></th>\n",
       "      <th></th>\n",
       "      <th></th>\n",
       "      <th></th>\n",
       "      <th></th>\n",
       "      <th></th>\n",
       "      <th></th>\n",
       "      <th></th>\n",
       "      <th></th>\n",
       "      <th></th>\n",
       "      <th></th>\n",
       "      <th></th>\n",
       "      <th></th>\n",
       "      <th></th>\n",
       "      <th></th>\n",
       "    </tr>\n",
       "  </thead>\n",
       "  <tbody>\n",
       "    <tr>\n",
       "      <th rowspan=\"5\" valign=\"top\">181</th>\n",
       "      <th>0</th>\n",
       "      <td>-72.000000</td>\n",
       "      <td>2.520000</td>\n",
       "      <td>1290.0</td>\n",
       "      <td>824.900024</td>\n",
       "      <td>1290.0</td>\n",
       "      <td>800.0</td>\n",
       "      <td>-180.0</td>\n",
       "      <td>2.0</td>\n",
       "      <td>1.0</td>\n",
       "      <td>0.0</td>\n",
       "      <td>3.893471</td>\n",
       "      <td>1.000000e+00</td>\n",
       "      <td>1.000000e+00</td>\n",
       "      <td>2.296368e-01</td>\n",
       "      <td>4.354702e+00</td>\n",
       "      <td>824.900024</td>\n",
       "      <td>3.434075</td>\n",
       "      <td>POINT (2.52000 -72.00000)</td>\n",
       "    </tr>\n",
       "    <tr>\n",
       "      <th>1</th>\n",
       "      <td>-70.760002</td>\n",
       "      <td>11.830000</td>\n",
       "      <td>123.0</td>\n",
       "      <td>958.400024</td>\n",
       "      <td>123.0</td>\n",
       "      <td>900.0</td>\n",
       "      <td>0.0</td>\n",
       "      <td>2.0</td>\n",
       "      <td>1.0</td>\n",
       "      <td>0.0</td>\n",
       "      <td>3.999395</td>\n",
       "      <td>1.000000e+00</td>\n",
       "      <td>1.000000e+00</td>\n",
       "      <td>4.926434e-01</td>\n",
       "      <td>2.029866e+00</td>\n",
       "      <td>958.400024</td>\n",
       "      <td>-1.181676</td>\n",
       "      <td>POINT (11.83000 -70.76000)</td>\n",
       "    </tr>\n",
       "    <tr>\n",
       "      <th>2</th>\n",
       "      <td>-72.000000</td>\n",
       "      <td>2.520000</td>\n",
       "      <td>1290.0</td>\n",
       "      <td>824.900024</td>\n",
       "      <td>1290.0</td>\n",
       "      <td>800.0</td>\n",
       "      <td>60.0</td>\n",
       "      <td>2.0</td>\n",
       "      <td>1.0</td>\n",
       "      <td>0.0</td>\n",
       "      <td>3.912592</td>\n",
       "      <td>1.000000e+00</td>\n",
       "      <td>1.000000e+00</td>\n",
       "      <td>2.499149e-01</td>\n",
       "      <td>4.001361e+00</td>\n",
       "      <td>824.900024</td>\n",
       "      <td>3.374524</td>\n",
       "      <td>POINT (2.52000 -72.00000)</td>\n",
       "    </tr>\n",
       "    <tr>\n",
       "      <th>3</th>\n",
       "      <td>-72.000000</td>\n",
       "      <td>2.520000</td>\n",
       "      <td>1290.0</td>\n",
       "      <td>824.900024</td>\n",
       "      <td>1290.0</td>\n",
       "      <td>800.0</td>\n",
       "      <td>0.0</td>\n",
       "      <td>2.0</td>\n",
       "      <td>1.0</td>\n",
       "      <td>0.0</td>\n",
       "      <td>3.874233</td>\n",
       "      <td>1.000000e+00</td>\n",
       "      <td>1.000000e+00</td>\n",
       "      <td>2.483187e-01</td>\n",
       "      <td>4.027082e+00</td>\n",
       "      <td>824.900024</td>\n",
       "      <td>3.483506</td>\n",
       "      <td>POINT (2.52000 -72.00000)</td>\n",
       "    </tr>\n",
       "    <tr>\n",
       "      <th>4</th>\n",
       "      <td>-72.000000</td>\n",
       "      <td>2.520000</td>\n",
       "      <td>1290.0</td>\n",
       "      <td>824.900024</td>\n",
       "      <td>1290.0</td>\n",
       "      <td>800.0</td>\n",
       "      <td>-120.0</td>\n",
       "      <td>2.0</td>\n",
       "      <td>1.0</td>\n",
       "      <td>0.0</td>\n",
       "      <td>3.871676</td>\n",
       "      <td>1.000000e+00</td>\n",
       "      <td>1.000000e+00</td>\n",
       "      <td>2.286168e-01</td>\n",
       "      <td>4.374131e+00</td>\n",
       "      <td>824.900024</td>\n",
       "      <td>3.489466</td>\n",
       "      <td>POINT (2.52000 -72.00000)</td>\n",
       "    </tr>\n",
       "    <tr>\n",
       "      <th>...</th>\n",
       "      <th>...</th>\n",
       "      <td>...</td>\n",
       "      <td>...</td>\n",
       "      <td>...</td>\n",
       "      <td>...</td>\n",
       "      <td>...</td>\n",
       "      <td>...</td>\n",
       "      <td>...</td>\n",
       "      <td>...</td>\n",
       "      <td>...</td>\n",
       "      <td>...</td>\n",
       "      <td>...</td>\n",
       "      <td>...</td>\n",
       "      <td>...</td>\n",
       "      <td>...</td>\n",
       "      <td>...</td>\n",
       "      <td>...</td>\n",
       "      <td>...</td>\n",
       "      <td>...</td>\n",
       "    </tr>\n",
       "    <tr>\n",
       "      <th rowspan=\"5\" valign=\"top\">183</th>\n",
       "      <th>3732</th>\n",
       "      <td>66.529999</td>\n",
       "      <td>341.980011</td>\n",
       "      <td>17.0</td>\n",
       "      <td>987.400024</td>\n",
       "      <td>17.0</td>\n",
       "      <td>900.0</td>\n",
       "      <td>-180.0</td>\n",
       "      <td>9.0</td>\n",
       "      <td>-1.0</td>\n",
       "      <td>101.0</td>\n",
       "      <td>3.999699</td>\n",
       "      <td>1.000000e-11</td>\n",
       "      <td>1.000000e-11</td>\n",
       "      <td>1.000000e-11</td>\n",
       "      <td>1.000000e+11</td>\n",
       "      <td>987.400024</td>\n",
       "      <td>0.497376</td>\n",
       "      <td>POINT (-18.02002 66.53000)</td>\n",
       "    </tr>\n",
       "    <tr>\n",
       "      <th>3733</th>\n",
       "      <td>65.269997</td>\n",
       "      <td>346.420013</td>\n",
       "      <td>11.0</td>\n",
       "      <td>978.099976</td>\n",
       "      <td>11.0</td>\n",
       "      <td>900.0</td>\n",
       "      <td>-180.0</td>\n",
       "      <td>9.0</td>\n",
       "      <td>-1.0</td>\n",
       "      <td>101.0</td>\n",
       "      <td>3.999699</td>\n",
       "      <td>1.000000e-11</td>\n",
       "      <td>1.000000e-11</td>\n",
       "      <td>1.000000e-11</td>\n",
       "      <td>1.000000e+11</td>\n",
       "      <td>978.099976</td>\n",
       "      <td>-2.292868</td>\n",
       "      <td>POINT (-13.57996 65.27000)</td>\n",
       "    </tr>\n",
       "    <tr>\n",
       "      <th>3734</th>\n",
       "      <td>49.430000</td>\n",
       "      <td>357.399994</td>\n",
       "      <td>102.0</td>\n",
       "      <td>1003.400024</td>\n",
       "      <td>102.0</td>\n",
       "      <td>1000.0</td>\n",
       "      <td>-120.0</td>\n",
       "      <td>9.0</td>\n",
       "      <td>-1.0</td>\n",
       "      <td>101.0</td>\n",
       "      <td>3.999699</td>\n",
       "      <td>1.000000e-11</td>\n",
       "      <td>1.000000e-11</td>\n",
       "      <td>1.000000e-11</td>\n",
       "      <td>1.000000e+11</td>\n",
       "      <td>1003.400024</td>\n",
       "      <td>0.943315</td>\n",
       "      <td>POINT (-2.59998 49.43000)</td>\n",
       "    </tr>\n",
       "    <tr>\n",
       "      <th>3735</th>\n",
       "      <td>63.779999</td>\n",
       "      <td>341.929993</td>\n",
       "      <td>38.0</td>\n",
       "      <td>972.099976</td>\n",
       "      <td>38.0</td>\n",
       "      <td>900.0</td>\n",
       "      <td>0.0</td>\n",
       "      <td>9.0</td>\n",
       "      <td>-1.0</td>\n",
       "      <td>101.0</td>\n",
       "      <td>3.999699</td>\n",
       "      <td>1.000000e-11</td>\n",
       "      <td>1.000000e-11</td>\n",
       "      <td>1.000000e-11</td>\n",
       "      <td>1.000000e+11</td>\n",
       "      <td>972.099976</td>\n",
       "      <td>-2.327267</td>\n",
       "      <td>POINT (-18.07001 63.78000)</td>\n",
       "    </tr>\n",
       "    <tr>\n",
       "      <th>3736</th>\n",
       "      <td>66.529999</td>\n",
       "      <td>341.980011</td>\n",
       "      <td>17.0</td>\n",
       "      <td>988.900024</td>\n",
       "      <td>17.0</td>\n",
       "      <td>900.0</td>\n",
       "      <td>0.0</td>\n",
       "      <td>9.0</td>\n",
       "      <td>-1.0</td>\n",
       "      <td>101.0</td>\n",
       "      <td>3.999699</td>\n",
       "      <td>1.000000e-11</td>\n",
       "      <td>1.000000e-11</td>\n",
       "      <td>1.000000e-11</td>\n",
       "      <td>1.000000e+11</td>\n",
       "      <td>988.900024</td>\n",
       "      <td>0.669521</td>\n",
       "      <td>POINT (-18.02002 66.53000)</td>\n",
       "    </tr>\n",
       "  </tbody>\n",
       "</table>\n",
       "<p>86479 rows × 18 columns</p>\n",
       "</div>"
      ],
      "text/plain": [
       "                  lat         lon    elev          prs     hgt   press   time  \\\n",
       "kx  points                                                                      \n",
       "181 0      -72.000000    2.520000  1290.0   824.900024  1290.0   800.0 -180.0   \n",
       "    1      -70.760002   11.830000   123.0   958.400024   123.0   900.0    0.0   \n",
       "    2      -72.000000    2.520000  1290.0   824.900024  1290.0   800.0   60.0   \n",
       "    3      -72.000000    2.520000  1290.0   824.900024  1290.0   800.0    0.0   \n",
       "    4      -72.000000    2.520000  1290.0   824.900024  1290.0   800.0 -120.0   \n",
       "...               ...         ...     ...          ...     ...     ...    ...   \n",
       "183 3732    66.529999  341.980011    17.0   987.400024    17.0   900.0 -180.0   \n",
       "    3733    65.269997  346.420013    11.0   978.099976    11.0   900.0 -180.0   \n",
       "    3734    49.430000  357.399994   102.0  1003.400024   102.0  1000.0 -120.0   \n",
       "    3735    63.779999  341.929993    38.0   972.099976    38.0   900.0    0.0   \n",
       "    3736    66.529999  341.980011    17.0   988.900024    17.0   900.0    0.0   \n",
       "\n",
       "            idqc  iuse  iusev     wpbqc       inp_err       adj_err  \\\n",
       "kx  points                                                            \n",
       "181 0        2.0   1.0    0.0  3.893471  1.000000e+00  1.000000e+00   \n",
       "    1        2.0   1.0    0.0  3.999395  1.000000e+00  1.000000e+00   \n",
       "    2        2.0   1.0    0.0  3.912592  1.000000e+00  1.000000e+00   \n",
       "    3        2.0   1.0    0.0  3.874233  1.000000e+00  1.000000e+00   \n",
       "    4        2.0   1.0    0.0  3.871676  1.000000e+00  1.000000e+00   \n",
       "...          ...   ...    ...       ...           ...           ...   \n",
       "183 3732     9.0  -1.0  101.0  3.999699  1.000000e-11  1.000000e-11   \n",
       "    3733     9.0  -1.0  101.0  3.999699  1.000000e-11  1.000000e-11   \n",
       "    3734     9.0  -1.0  101.0  3.999699  1.000000e-11  1.000000e-11   \n",
       "    3735     9.0  -1.0  101.0  3.999699  1.000000e-11  1.000000e-11   \n",
       "    3736     9.0  -1.0  101.0  3.999699  1.000000e-11  1.000000e-11   \n",
       "\n",
       "                  inverr           oer          obs       omf  \\\n",
       "kx  points                                                      \n",
       "181 0       2.296368e-01  4.354702e+00   824.900024  3.434075   \n",
       "    1       4.926434e-01  2.029866e+00   958.400024 -1.181676   \n",
       "    2       2.499149e-01  4.001361e+00   824.900024  3.374524   \n",
       "    3       2.483187e-01  4.027082e+00   824.900024  3.483506   \n",
       "    4       2.286168e-01  4.374131e+00   824.900024  3.489466   \n",
       "...                  ...           ...          ...       ...   \n",
       "183 3732    1.000000e-11  1.000000e+11   987.400024  0.497376   \n",
       "    3733    1.000000e-11  1.000000e+11   978.099976 -2.292868   \n",
       "    3734    1.000000e-11  1.000000e+11  1003.400024  0.943315   \n",
       "    3735    1.000000e-11  1.000000e+11   972.099976 -2.327267   \n",
       "    3736    1.000000e-11  1.000000e+11   988.900024  0.669521   \n",
       "\n",
       "                              geometry  \n",
       "kx  points                              \n",
       "181 0        POINT (2.52000 -72.00000)  \n",
       "    1       POINT (11.83000 -70.76000)  \n",
       "    2        POINT (2.52000 -72.00000)  \n",
       "    3        POINT (2.52000 -72.00000)  \n",
       "    4        POINT (2.52000 -72.00000)  \n",
       "...                                ...  \n",
       "183 3732    POINT (-18.02002 66.53000)  \n",
       "    3733    POINT (-13.57996 65.27000)  \n",
       "    3734     POINT (-2.59998 49.43000)  \n",
       "    3735    POINT (-18.07001 63.78000)  \n",
       "    3736    POINT (-18.02002 66.53000)  \n",
       "\n",
       "[86479 rows x 18 columns]"
      ]
     },
     "execution_count": 14,
     "metadata": {},
     "output_type": "execute_result"
    }
   ],
   "source": [
    "file.obsInfo['ps']"
   ]
  },
  {
   "cell_type": "markdown",
   "metadata": {},
   "source": [
    "Note that the outcome of the command `file.obsInfo['ps']` returned a Pandas DataFrame (acctually a multiindex dataframe) with all the information related with the `ps` (surface pressure) observation. More information on how to handle the DataFrame and filter out some information are given on the next sections."
   ]
  },
  {
   "cell_type": "markdown",
   "metadata": {},
   "source": [
    "Use the method `varNames` to get a list of the variable names from the file:"
   ]
  },
  {
   "cell_type": "code",
   "execution_count": 15,
   "metadata": {},
   "outputs": [
    {
     "data": {
      "text/plain": [
       "['ps', 't', 'q', 'uv']"
      ]
     },
     "execution_count": 15,
     "metadata": {},
     "output_type": "execute_result"
    }
   ],
   "source": [
    "file.varNames"
   ]
  },
  {
   "cell_type": "markdown",
   "metadata": {},
   "source": [
    "Another way to key the list of variables is by using some of the Pandas methods:"
   ]
  },
  {
   "cell_type": "code",
   "execution_count": 16,
   "metadata": {},
   "outputs": [
    {
     "data": {
      "text/plain": [
       "Index(['uv', 't', 'q', 'ps'], dtype='object')"
      ]
     },
     "execution_count": 16,
     "metadata": {},
     "output_type": "execute_result"
    }
   ],
   "source": [
    "file.obs.groupby(level=0).size().sort_values(ascending=False).keys()"
   ]
  },
  {
   "cell_type": "markdown",
   "metadata": {},
   "source": [
    "To get a list of the available standard levels, use the method `zlevs`:"
   ]
  },
  {
   "cell_type": "code",
   "execution_count": 17,
   "metadata": {},
   "outputs": [
    {
     "data": {
      "text/plain": [
       "[1000.0,\n",
       " 900.0,\n",
       " 800.0,\n",
       " 700.0,\n",
       " 600.0,\n",
       " 500.0,\n",
       " 400.0,\n",
       " 300.0,\n",
       " 250.0,\n",
       " 200.0,\n",
       " 150.0,\n",
       " 100.0,\n",
       " 50.0,\n",
       " 0.0]"
      ]
     },
     "execution_count": 17,
     "metadata": {},
     "output_type": "execute_result"
    }
   ],
   "source": [
    "file.zlevs"
   ]
  },
  {
   "cell_type": "markdown",
   "metadata": {},
   "source": [
    "## Data exploration\n",
    "\n",
    "On the previous section it has been given an overview about the functions and methods of the readDiag interface. In this section, it is given an overview of how to handle the Pandas DataFrame in order to retrive and filter out some information related to the observations from the provided conventionan diagnostic file. \n",
    "\n",
    "To simply count the number of records of some kind of observation, use the function `pcount()`:"
   ]
  },
  {
   "cell_type": "code",
   "execution_count": 18,
   "metadata": {},
   "outputs": [
    {
     "name": "stdout",
     "output_type": "stream",
     "text": [
      "\n",
      "        Plots a histogram of the desired variable and types.\n",
      "\n",
      "        Usage: pcount(VarName)\n",
      "        \n"
     ]
    }
   ],
   "source": [
    "print(file.pcount.__doc__)"
   ]
  },
  {
   "cell_type": "code",
   "execution_count": 19,
   "metadata": {},
   "outputs": [
    {
     "data": {
      "image/png": "[encoded data removed]",
      "text/plain": [
       "<Figure size 576x396 with 1 Axes>"
      ]
     },
     "metadata": {},
     "output_type": "display_data"
    }
   ],
   "source": [
    "file.pcount('ps')"
   ]
  },
  {
   "cell_type": "code",
   "execution_count": 20,
   "metadata": {},
   "outputs": [
    {
     "data": {
      "image/png": "[encoded data removed]",
      "text/plain": [
       "<Figure size 576x396 with 1 Axes>"
      ]
     },
     "metadata": {},
     "output_type": "display_data"
    }
   ],
   "source": [
    "file.pcount('t')"
   ]
  },
  {
   "cell_type": "code",
   "execution_count": 21,
   "metadata": {},
   "outputs": [
    {
     "data": {
      "image/png": "[encoded data removed]",
      "text/plain": [
       "<Figure size 576x396 with 1 Axes>"
      ]
     },
     "metadata": {},
     "output_type": "display_data"
    }
   ],
   "source": [
    "file.pcount('q')"
   ]
  },
  {
   "cell_type": "code",
   "execution_count": 22,
   "metadata": {
    "scrolled": false
   },
   "outputs": [
    {
     "data": {
      "image/png": "[encoded data removed]",
      "text/plain": [
       "<Figure size 576x396 with 1 Axes>"
      ]
     },
     "metadata": {},
     "output_type": "display_data"
    }
   ],
   "source": [
    "file.pcount('uv')"
   ]
  },
  {
   "cell_type": "markdown",
   "metadata": {},
   "source": [
    "### Dataframe exploration"
   ]
  },
  {
   "cell_type": "markdown",
   "metadata": {},
   "source": [
    "The Pandas DataFrame is a tabular data structure with its own built in functions and methods. This section shows some generic operations related to it.\n",
    "\n",
    "From the previous section, we learned that the method `obsInfo` returns a dictionary with one DataFrame for each observation, e.g., for the `t` (temperature) observation:"
   ]
  },
  {
   "cell_type": "code",
   "execution_count": 25,
   "metadata": {},
   "outputs": [
    {
     "data": {
      "text/html": [
       "<div>\n",
       "<style scoped>\n",
       "    .dataframe tbody tr th:only-of-type {\n",
       "        vertical-align: middle;\n",
       "    }\n",
       "\n",
       "    .dataframe tbody tr th {\n",
       "        vertical-align: top;\n",
       "    }\n",
       "\n",
       "    .dataframe thead th {\n",
       "        text-align: right;\n",
       "    }\n",
       "</style>\n",
       "<table border=\"1\" class=\"dataframe\">\n",
       "  <thead>\n",
       "    <tr style=\"text-align: right;\">\n",
       "      <th></th>\n",
       "      <th></th>\n",
       "      <th>lat</th>\n",
       "      <th>lon</th>\n",
       "      <th>elev</th>\n",
       "      <th>prs</th>\n",
       "      <th>hgt</th>\n",
       "      <th>press</th>\n",
       "      <th>time</th>\n",
       "      <th>idqc</th>\n",
       "      <th>iuse</th>\n",
       "      <th>iusev</th>\n",
       "      <th>wpbqc</th>\n",
       "      <th>inp_err</th>\n",
       "      <th>adj_err</th>\n",
       "      <th>inverr</th>\n",
       "      <th>oer</th>\n",
       "      <th>obs</th>\n",
       "      <th>omf</th>\n",
       "      <th>geometry</th>\n",
       "    </tr>\n",
       "    <tr>\n",
       "      <th>kx</th>\n",
       "      <th>points</th>\n",
       "      <th></th>\n",
       "      <th></th>\n",
       "      <th></th>\n",
       "      <th></th>\n",
       "      <th></th>\n",
       "      <th></th>\n",
       "      <th></th>\n",
       "      <th></th>\n",
       "      <th></th>\n",
       "      <th></th>\n",
       "      <th></th>\n",
       "      <th></th>\n",
       "      <th></th>\n",
       "      <th></th>\n",
       "      <th></th>\n",
       "      <th></th>\n",
       "      <th></th>\n",
       "      <th></th>\n",
       "    </tr>\n",
       "  </thead>\n",
       "  <tbody>\n",
       "    <tr>\n",
       "      <th rowspan=\"5\" valign=\"top\">181</th>\n",
       "      <th>0</th>\n",
       "      <td>-72.000000</td>\n",
       "      <td>2.52000</td>\n",
       "      <td>1290.0</td>\n",
       "      <td>824.900024</td>\n",
       "      <td>1290.0</td>\n",
       "      <td>800.0</td>\n",
       "      <td>-180.0</td>\n",
       "      <td>9.0</td>\n",
       "      <td>-1.0</td>\n",
       "      <td>101.0</td>\n",
       "      <td>3.997126</td>\n",
       "      <td>1.000000e-11</td>\n",
       "      <td>1.000000e-11</td>\n",
       "      <td>9.090909e-12</td>\n",
       "      <td>1.100000e+11</td>\n",
       "      <td>257.250000</td>\n",
       "      <td>10.005481</td>\n",
       "      <td>POINT (2.52000 -72.00000)</td>\n",
       "    </tr>\n",
       "    <tr>\n",
       "      <th>1</th>\n",
       "      <td>-70.760002</td>\n",
       "      <td>11.83000</td>\n",
       "      <td>123.0</td>\n",
       "      <td>958.400024</td>\n",
       "      <td>123.0</td>\n",
       "      <td>900.0</td>\n",
       "      <td>0.0</td>\n",
       "      <td>9.0</td>\n",
       "      <td>-1.0</td>\n",
       "      <td>101.0</td>\n",
       "      <td>3.997126</td>\n",
       "      <td>1.000000e-11</td>\n",
       "      <td>1.000000e-11</td>\n",
       "      <td>9.090909e-12</td>\n",
       "      <td>1.100000e+11</td>\n",
       "      <td>263.350006</td>\n",
       "      <td>8.443922</td>\n",
       "      <td>POINT (11.83000 -70.76000)</td>\n",
       "    </tr>\n",
       "    <tr>\n",
       "      <th>2</th>\n",
       "      <td>-72.000000</td>\n",
       "      <td>2.52000</td>\n",
       "      <td>1290.0</td>\n",
       "      <td>824.900024</td>\n",
       "      <td>1290.0</td>\n",
       "      <td>800.0</td>\n",
       "      <td>60.0</td>\n",
       "      <td>9.0</td>\n",
       "      <td>-1.0</td>\n",
       "      <td>101.0</td>\n",
       "      <td>3.997126</td>\n",
       "      <td>1.000000e-11</td>\n",
       "      <td>1.000000e-11</td>\n",
       "      <td>9.090909e-12</td>\n",
       "      <td>1.100000e+11</td>\n",
       "      <td>257.149994</td>\n",
       "      <td>7.287628</td>\n",
       "      <td>POINT (2.52000 -72.00000)</td>\n",
       "    </tr>\n",
       "    <tr>\n",
       "      <th>3</th>\n",
       "      <td>-72.000000</td>\n",
       "      <td>2.52000</td>\n",
       "      <td>1290.0</td>\n",
       "      <td>824.900024</td>\n",
       "      <td>1290.0</td>\n",
       "      <td>800.0</td>\n",
       "      <td>0.0</td>\n",
       "      <td>9.0</td>\n",
       "      <td>-1.0</td>\n",
       "      <td>101.0</td>\n",
       "      <td>3.997126</td>\n",
       "      <td>1.000000e-11</td>\n",
       "      <td>1.000000e-11</td>\n",
       "      <td>9.090909e-12</td>\n",
       "      <td>1.100000e+11</td>\n",
       "      <td>257.350006</td>\n",
       "      <td>7.147639</td>\n",
       "      <td>POINT (2.52000 -72.00000)</td>\n",
       "    </tr>\n",
       "    <tr>\n",
       "      <th>4</th>\n",
       "      <td>-72.000000</td>\n",
       "      <td>2.52000</td>\n",
       "      <td>1290.0</td>\n",
       "      <td>824.900024</td>\n",
       "      <td>1290.0</td>\n",
       "      <td>800.0</td>\n",
       "      <td>-120.0</td>\n",
       "      <td>9.0</td>\n",
       "      <td>-1.0</td>\n",
       "      <td>101.0</td>\n",
       "      <td>3.997126</td>\n",
       "      <td>1.000000e-11</td>\n",
       "      <td>1.000000e-11</td>\n",
       "      <td>9.090909e-12</td>\n",
       "      <td>1.100000e+11</td>\n",
       "      <td>257.850006</td>\n",
       "      <td>9.619534</td>\n",
       "      <td>POINT (2.52000 -72.00000)</td>\n",
       "    </tr>\n",
       "    <tr>\n",
       "      <th>...</th>\n",
       "      <th>...</th>\n",
       "      <td>...</td>\n",
       "      <td>...</td>\n",
       "      <td>...</td>\n",
       "      <td>...</td>\n",
       "      <td>...</td>\n",
       "      <td>...</td>\n",
       "      <td>...</td>\n",
       "      <td>...</td>\n",
       "      <td>...</td>\n",
       "      <td>...</td>\n",
       "      <td>...</td>\n",
       "      <td>...</td>\n",
       "      <td>...</td>\n",
       "      <td>...</td>\n",
       "      <td>...</td>\n",
       "      <td>...</td>\n",
       "      <td>...</td>\n",
       "      <td>...</td>\n",
       "    </tr>\n",
       "    <tr>\n",
       "      <th rowspan=\"5\" valign=\"top\">126</th>\n",
       "      <th>2640</th>\n",
       "      <td>39.709999</td>\n",
       "      <td>280.98999</td>\n",
       "      <td>763.0</td>\n",
       "      <td>879.000000</td>\n",
       "      <td>1183.0</td>\n",
       "      <td>800.0</td>\n",
       "      <td>90.0</td>\n",
       "      <td>9.0</td>\n",
       "      <td>-1.0</td>\n",
       "      <td>101.0</td>\n",
       "      <td>3.999373</td>\n",
       "      <td>1.000000e-11</td>\n",
       "      <td>1.000000e-17</td>\n",
       "      <td>1.000000e-17</td>\n",
       "      <td>1.000000e+17</td>\n",
       "      <td>278.750000</td>\n",
       "      <td>-0.777656</td>\n",
       "      <td>POINT (-79.01001 39.71000)</td>\n",
       "    </tr>\n",
       "    <tr>\n",
       "      <th>2641</th>\n",
       "      <td>39.709999</td>\n",
       "      <td>280.98999</td>\n",
       "      <td>763.0</td>\n",
       "      <td>872.099976</td>\n",
       "      <td>1247.0</td>\n",
       "      <td>800.0</td>\n",
       "      <td>90.0</td>\n",
       "      <td>9.0</td>\n",
       "      <td>-1.0</td>\n",
       "      <td>101.0</td>\n",
       "      <td>3.999373</td>\n",
       "      <td>1.000000e-11</td>\n",
       "      <td>1.000000e-17</td>\n",
       "      <td>1.000000e-17</td>\n",
       "      <td>1.000000e+17</td>\n",
       "      <td>277.850006</td>\n",
       "      <td>-1.536891</td>\n",
       "      <td>POINT (-79.01001 39.71000)</td>\n",
       "    </tr>\n",
       "    <tr>\n",
       "      <th>2642</th>\n",
       "      <td>39.709999</td>\n",
       "      <td>280.98999</td>\n",
       "      <td>763.0</td>\n",
       "      <td>865.299988</td>\n",
       "      <td>1312.0</td>\n",
       "      <td>800.0</td>\n",
       "      <td>90.0</td>\n",
       "      <td>9.0</td>\n",
       "      <td>-1.0</td>\n",
       "      <td>101.0</td>\n",
       "      <td>3.999373</td>\n",
       "      <td>1.000000e-11</td>\n",
       "      <td>1.000000e-17</td>\n",
       "      <td>1.000000e-17</td>\n",
       "      <td>1.000000e+17</td>\n",
       "      <td>277.950012</td>\n",
       "      <td>-1.106795</td>\n",
       "      <td>POINT (-79.01001 39.71000)</td>\n",
       "    </tr>\n",
       "    <tr>\n",
       "      <th>2643</th>\n",
       "      <td>39.709999</td>\n",
       "      <td>280.98999</td>\n",
       "      <td>763.0</td>\n",
       "      <td>858.500000</td>\n",
       "      <td>1376.0</td>\n",
       "      <td>800.0</td>\n",
       "      <td>90.0</td>\n",
       "      <td>9.0</td>\n",
       "      <td>-1.0</td>\n",
       "      <td>101.0</td>\n",
       "      <td>3.999373</td>\n",
       "      <td>1.000000e-11</td>\n",
       "      <td>1.000000e-17</td>\n",
       "      <td>1.000000e-17</td>\n",
       "      <td>1.000000e+17</td>\n",
       "      <td>277.649994</td>\n",
       "      <td>-1.074093</td>\n",
       "      <td>POINT (-79.01001 39.71000)</td>\n",
       "    </tr>\n",
       "    <tr>\n",
       "      <th>2644</th>\n",
       "      <td>39.709999</td>\n",
       "      <td>280.98999</td>\n",
       "      <td>763.0</td>\n",
       "      <td>851.700012</td>\n",
       "      <td>1441.0</td>\n",
       "      <td>800.0</td>\n",
       "      <td>90.0</td>\n",
       "      <td>9.0</td>\n",
       "      <td>-1.0</td>\n",
       "      <td>101.0</td>\n",
       "      <td>3.999373</td>\n",
       "      <td>1.000000e-11</td>\n",
       "      <td>1.000000e-17</td>\n",
       "      <td>1.000000e-17</td>\n",
       "      <td>1.000000e+17</td>\n",
       "      <td>278.250000</td>\n",
       "      <td>-0.125823</td>\n",
       "      <td>POINT (-79.01001 39.71000)</td>\n",
       "    </tr>\n",
       "  </tbody>\n",
       "</table>\n",
       "<p>119806 rows × 18 columns</p>\n",
       "</div>"
      ],
      "text/plain": [
       "                  lat        lon    elev         prs     hgt  press   time  \\\n",
       "kx  points                                                                   \n",
       "181 0      -72.000000    2.52000  1290.0  824.900024  1290.0  800.0 -180.0   \n",
       "    1      -70.760002   11.83000   123.0  958.400024   123.0  900.0    0.0   \n",
       "    2      -72.000000    2.52000  1290.0  824.900024  1290.0  800.0   60.0   \n",
       "    3      -72.000000    2.52000  1290.0  824.900024  1290.0  800.0    0.0   \n",
       "    4      -72.000000    2.52000  1290.0  824.900024  1290.0  800.0 -120.0   \n",
       "...               ...        ...     ...         ...     ...    ...    ...   \n",
       "126 2640    39.709999  280.98999   763.0  879.000000  1183.0  800.0   90.0   \n",
       "    2641    39.709999  280.98999   763.0  872.099976  1247.0  800.0   90.0   \n",
       "    2642    39.709999  280.98999   763.0  865.299988  1312.0  800.0   90.0   \n",
       "    2643    39.709999  280.98999   763.0  858.500000  1376.0  800.0   90.0   \n",
       "    2644    39.709999  280.98999   763.0  851.700012  1441.0  800.0   90.0   \n",
       "\n",
       "            idqc  iuse  iusev     wpbqc       inp_err       adj_err  \\\n",
       "kx  points                                                            \n",
       "181 0        9.0  -1.0  101.0  3.997126  1.000000e-11  1.000000e-11   \n",
       "    1        9.0  -1.0  101.0  3.997126  1.000000e-11  1.000000e-11   \n",
       "    2        9.0  -1.0  101.0  3.997126  1.000000e-11  1.000000e-11   \n",
       "    3        9.0  -1.0  101.0  3.997126  1.000000e-11  1.000000e-11   \n",
       "    4        9.0  -1.0  101.0  3.997126  1.000000e-11  1.000000e-11   \n",
       "...          ...   ...    ...       ...           ...           ...   \n",
       "126 2640     9.0  -1.0  101.0  3.999373  1.000000e-11  1.000000e-17   \n",
       "    2641     9.0  -1.0  101.0  3.999373  1.000000e-11  1.000000e-17   \n",
       "    2642     9.0  -1.0  101.0  3.999373  1.000000e-11  1.000000e-17   \n",
       "    2643     9.0  -1.0  101.0  3.999373  1.000000e-11  1.000000e-17   \n",
       "    2644     9.0  -1.0  101.0  3.999373  1.000000e-11  1.000000e-17   \n",
       "\n",
       "                  inverr           oer         obs        omf  \\\n",
       "kx  points                                                      \n",
       "181 0       9.090909e-12  1.100000e+11  257.250000  10.005481   \n",
       "    1       9.090909e-12  1.100000e+11  263.350006   8.443922   \n",
       "    2       9.090909e-12  1.100000e+11  257.149994   7.287628   \n",
       "    3       9.090909e-12  1.100000e+11  257.350006   7.147639   \n",
       "    4       9.090909e-12  1.100000e+11  257.850006   9.619534   \n",
       "...                  ...           ...         ...        ...   \n",
       "126 2640    1.000000e-17  1.000000e+17  278.750000  -0.777656   \n",
       "    2641    1.000000e-17  1.000000e+17  277.850006  -1.536891   \n",
       "    2642    1.000000e-17  1.000000e+17  277.950012  -1.106795   \n",
       "    2643    1.000000e-17  1.000000e+17  277.649994  -1.074093   \n",
       "    2644    1.000000e-17  1.000000e+17  278.250000  -0.125823   \n",
       "\n",
       "                              geometry  \n",
       "kx  points                              \n",
       "181 0        POINT (2.52000 -72.00000)  \n",
       "    1       POINT (11.83000 -70.76000)  \n",
       "    2        POINT (2.52000 -72.00000)  \n",
       "    3        POINT (2.52000 -72.00000)  \n",
       "    4        POINT (2.52000 -72.00000)  \n",
       "...                                ...  \n",
       "126 2640    POINT (-79.01001 39.71000)  \n",
       "    2641    POINT (-79.01001 39.71000)  \n",
       "    2642    POINT (-79.01001 39.71000)  \n",
       "    2643    POINT (-79.01001 39.71000)  \n",
       "    2644    POINT (-79.01001 39.71000)  \n",
       "\n",
       "[119806 rows x 18 columns]"
      ]
     },
     "execution_count": 25,
     "metadata": {},
     "output_type": "execute_result"
    }
   ],
   "source": [
    "file.obsInfo['t']"
   ]
  },
  {
   "cell_type": "markdown",
   "metadata": {},
   "source": [
    "This dataframe is multiindex, which can be checked by issuing the command:"
   ]
  },
  {
   "cell_type": "code",
   "execution_count": 49,
   "metadata": {},
   "outputs": [
    {
     "data": {
      "text/plain": [
       "FrozenList(['kx', 'points'])"
      ]
     },
     "execution_count": 49,
     "metadata": {},
     "output_type": "execute_result"
    }
   ],
   "source": [
    "df_t.index.names"
   ]
  },
  {
   "cell_type": "markdown",
   "metadata": {},
   "source": [
    "The `kx` and `points` are the indices for whose all the columns of the dataframe are defined. This means that for a given observation, there are a number of `kx` (observation kinds) and `points` (the index of each point related to that observation kind).\n",
    "\n",
    "**Note:** although the `points` index each observation, its real world lat/lon coordinate is given by the column `geometry` (which is a tuple formed by the `lat` and `lon` columns).\n",
    "\n",
    "In order to simplify the use of some command, we will create the variable `df_t` which will hold the temperature observation DataFrame:"
   ]
  },
  {
   "cell_type": "code",
   "execution_count": 26,
   "metadata": {},
   "outputs": [],
   "source": [
    "df_t = file.obsInfo['t']"
   ]
  },
  {
   "cell_type": "markdown",
   "metadata": {},
   "source": [
    "The temperature observation has the following kinds:"
   ]
  },
  {
   "cell_type": "code",
   "execution_count": 48,
   "metadata": {},
   "outputs": [
    {
     "data": {
      "text/plain": [
       "Int64Index([181, 180, 120, 187, 183, 130, 126], dtype='int64', name='kx')"
      ]
     },
     "execution_count": 48,
     "metadata": {},
     "output_type": "execute_result"
    }
   ],
   "source": [
    "df_t.index.get_level_values('kx').unique()"
   ]
  },
  {
   "cell_type": "markdown",
   "metadata": {},
   "source": [
    "If you want to filter all the temperature observations by the kind 120, you may issue the command:"
   ]
  },
  {
   "cell_type": "code",
   "execution_count": 50,
   "metadata": {},
   "outputs": [
    {
     "data": {
      "text/html": [
       "<div>\n",
       "<style scoped>\n",
       "    .dataframe tbody tr th:only-of-type {\n",
       "        vertical-align: middle;\n",
       "    }\n",
       "\n",
       "    .dataframe tbody tr th {\n",
       "        vertical-align: top;\n",
       "    }\n",
       "\n",
       "    .dataframe thead th {\n",
       "        text-align: right;\n",
       "    }\n",
       "</style>\n",
       "<table border=\"1\" class=\"dataframe\">\n",
       "  <thead>\n",
       "    <tr style=\"text-align: right;\">\n",
       "      <th></th>\n",
       "      <th></th>\n",
       "      <th>lat</th>\n",
       "      <th>lon</th>\n",
       "      <th>elev</th>\n",
       "      <th>prs</th>\n",
       "      <th>hgt</th>\n",
       "      <th>press</th>\n",
       "      <th>time</th>\n",
       "      <th>idqc</th>\n",
       "      <th>iuse</th>\n",
       "      <th>iusev</th>\n",
       "      <th>wpbqc</th>\n",
       "      <th>inp_err</th>\n",
       "      <th>adj_err</th>\n",
       "      <th>inverr</th>\n",
       "      <th>oer</th>\n",
       "      <th>obs</th>\n",
       "      <th>omf</th>\n",
       "      <th>geometry</th>\n",
       "    </tr>\n",
       "    <tr>\n",
       "      <th>kx</th>\n",
       "      <th>points</th>\n",
       "      <th></th>\n",
       "      <th></th>\n",
       "      <th></th>\n",
       "      <th></th>\n",
       "      <th></th>\n",
       "      <th></th>\n",
       "      <th></th>\n",
       "      <th></th>\n",
       "      <th></th>\n",
       "      <th></th>\n",
       "      <th></th>\n",
       "      <th></th>\n",
       "      <th></th>\n",
       "      <th></th>\n",
       "      <th></th>\n",
       "      <th></th>\n",
       "      <th></th>\n",
       "      <th></th>\n",
       "    </tr>\n",
       "  </thead>\n",
       "  <tbody>\n",
       "    <tr>\n",
       "      <th rowspan=\"11\" valign=\"top\">120</th>\n",
       "      <th>0</th>\n",
       "      <td>-30.670000</td>\n",
       "      <td>24.000000</td>\n",
       "      <td>1287.0</td>\n",
       "      <td>871.0</td>\n",
       "      <td>1.287000e+03</td>\n",
       "      <td>800.0</td>\n",
       "      <td>-45.000000</td>\n",
       "      <td>2.0</td>\n",
       "      <td>1.0</td>\n",
       "      <td>0.0</td>\n",
       "      <td>3.999999</td>\n",
       "      <td>1.250000</td>\n",
       "      <td>0.980566</td>\n",
       "      <td>0.266639</td>\n",
       "      <td>3.750382</td>\n",
       "      <td>300.649994</td>\n",
       "      <td>-0.785228</td>\n",
       "      <td>POINT (24.00000 -30.67000)</td>\n",
       "    </tr>\n",
       "    <tr>\n",
       "      <th>1</th>\n",
       "      <td>-30.670271</td>\n",
       "      <td>23.999821</td>\n",
       "      <td>1287.0</td>\n",
       "      <td>867.0</td>\n",
       "      <td>1.000000e+11</td>\n",
       "      <td>800.0</td>\n",
       "      <td>-44.865601</td>\n",
       "      <td>2.0</td>\n",
       "      <td>1.0</td>\n",
       "      <td>0.0</td>\n",
       "      <td>3.850856</td>\n",
       "      <td>1.250000</td>\n",
       "      <td>0.849141</td>\n",
       "      <td>0.849141</td>\n",
       "      <td>1.177661</td>\n",
       "      <td>297.450012</td>\n",
       "      <td>-3.986862</td>\n",
       "      <td>POINT (23.99982 -30.67027)</td>\n",
       "    </tr>\n",
       "    <tr>\n",
       "      <th>2</th>\n",
       "      <td>-30.671200</td>\n",
       "      <td>23.999109</td>\n",
       "      <td>1287.0</td>\n",
       "      <td>855.0</td>\n",
       "      <td>1.000000e+11</td>\n",
       "      <td>800.0</td>\n",
       "      <td>-44.461800</td>\n",
       "      <td>2.0</td>\n",
       "      <td>1.0</td>\n",
       "      <td>0.0</td>\n",
       "      <td>3.989482</td>\n",
       "      <td>1.250000</td>\n",
       "      <td>0.880636</td>\n",
       "      <td>0.880636</td>\n",
       "      <td>1.135542</td>\n",
       "      <td>296.450012</td>\n",
       "      <td>-3.529222</td>\n",
       "      <td>POINT (23.99911 -30.67120)</td>\n",
       "    </tr>\n",
       "    <tr>\n",
       "      <th>3</th>\n",
       "      <td>-30.671721</td>\n",
       "      <td>23.998690</td>\n",
       "      <td>1287.0</td>\n",
       "      <td>850.0</td>\n",
       "      <td>1.508000e+03</td>\n",
       "      <td>800.0</td>\n",
       "      <td>-44.263199</td>\n",
       "      <td>2.0</td>\n",
       "      <td>1.0</td>\n",
       "      <td>0.0</td>\n",
       "      <td>3.991446</td>\n",
       "      <td>1.250000</td>\n",
       "      <td>1.004662</td>\n",
       "      <td>1.004662</td>\n",
       "      <td>0.995360</td>\n",
       "      <td>295.950012</td>\n",
       "      <td>-3.491445</td>\n",
       "      <td>POINT (23.99869 -30.67172)</td>\n",
       "    </tr>\n",
       "    <tr>\n",
       "      <th>4</th>\n",
       "      <td>-30.675381</td>\n",
       "      <td>23.996031</td>\n",
       "      <td>1287.0</td>\n",
       "      <td>819.0</td>\n",
       "      <td>1.000000e+11</td>\n",
       "      <td>800.0</td>\n",
       "      <td>-43.195198</td>\n",
       "      <td>2.0</td>\n",
       "      <td>1.0</td>\n",
       "      <td>0.0</td>\n",
       "      <td>3.996317</td>\n",
       "      <td>1.250000</td>\n",
       "      <td>1.250000</td>\n",
       "      <td>1.250000</td>\n",
       "      <td>0.800000</td>\n",
       "      <td>292.850006</td>\n",
       "      <td>-3.333173</td>\n",
       "      <td>POINT (23.99603 -30.67538)</td>\n",
       "    </tr>\n",
       "    <tr>\n",
       "      <th>...</th>\n",
       "      <td>...</td>\n",
       "      <td>...</td>\n",
       "      <td>...</td>\n",
       "      <td>...</td>\n",
       "      <td>...</td>\n",
       "      <td>...</td>\n",
       "      <td>...</td>\n",
       "      <td>...</td>\n",
       "      <td>...</td>\n",
       "      <td>...</td>\n",
       "      <td>...</td>\n",
       "      <td>...</td>\n",
       "      <td>...</td>\n",
       "      <td>...</td>\n",
       "      <td>...</td>\n",
       "      <td>...</td>\n",
       "      <td>...</td>\n",
       "      <td>...</td>\n",
       "    </tr>\n",
       "    <tr>\n",
       "      <th>30751</th>\n",
       "      <td>76.829857</td>\n",
       "      <td>349.991333</td>\n",
       "      <td>14.0</td>\n",
       "      <td>5.8</td>\n",
       "      <td>1.000000e+11</td>\n",
       "      <td>0.0</td>\n",
       "      <td>55.483200</td>\n",
       "      <td>2.0</td>\n",
       "      <td>1.0</td>\n",
       "      <td>0.0</td>\n",
       "      <td>3.999999</td>\n",
       "      <td>0.666667</td>\n",
       "      <td>0.489252</td>\n",
       "      <td>0.489252</td>\n",
       "      <td>2.043936</td>\n",
       "      <td>235.649994</td>\n",
       "      <td>1.432701</td>\n",
       "      <td>POINT (-10.00867 76.82986)</td>\n",
       "    </tr>\n",
       "    <tr>\n",
       "      <th>30752</th>\n",
       "      <td>76.822647</td>\n",
       "      <td>350.371216</td>\n",
       "      <td>14.0</td>\n",
       "      <td>5.1</td>\n",
       "      <td>1.000000e+11</td>\n",
       "      <td>0.0</td>\n",
       "      <td>58.462799</td>\n",
       "      <td>2.0</td>\n",
       "      <td>1.0</td>\n",
       "      <td>0.0</td>\n",
       "      <td>3.999996</td>\n",
       "      <td>0.666667</td>\n",
       "      <td>0.555556</td>\n",
       "      <td>0.555556</td>\n",
       "      <td>1.800000</td>\n",
       "      <td>238.850006</td>\n",
       "      <td>2.843098</td>\n",
       "      <td>POINT (-9.62878 76.82265)</td>\n",
       "    </tr>\n",
       "    <tr>\n",
       "      <th>30753</th>\n",
       "      <td>76.809792</td>\n",
       "      <td>350.601929</td>\n",
       "      <td>14.0</td>\n",
       "      <td>4.7</td>\n",
       "      <td>1.000000e+11</td>\n",
       "      <td>0.0</td>\n",
       "      <td>60.394798</td>\n",
       "      <td>2.0</td>\n",
       "      <td>1.0</td>\n",
       "      <td>0.0</td>\n",
       "      <td>3.830203</td>\n",
       "      <td>0.666667</td>\n",
       "      <td>0.555556</td>\n",
       "      <td>0.555556</td>\n",
       "      <td>1.800000</td>\n",
       "      <td>245.449997</td>\n",
       "      <td>7.515910</td>\n",
       "      <td>POINT (-9.39807 76.80979)</td>\n",
       "    </tr>\n",
       "    <tr>\n",
       "      <th>30754</th>\n",
       "      <td>76.791122</td>\n",
       "      <td>350.984192</td>\n",
       "      <td>14.0</td>\n",
       "      <td>4.1</td>\n",
       "      <td>1.000000e+11</td>\n",
       "      <td>0.0</td>\n",
       "      <td>63.643196</td>\n",
       "      <td>2.0</td>\n",
       "      <td>1.0</td>\n",
       "      <td>0.0</td>\n",
       "      <td>3.999999</td>\n",
       "      <td>0.666667</td>\n",
       "      <td>0.463115</td>\n",
       "      <td>0.463115</td>\n",
       "      <td>2.159289</td>\n",
       "      <td>241.649994</td>\n",
       "      <td>0.165799</td>\n",
       "      <td>POINT (-9.01581 76.79112)</td>\n",
       "    </tr>\n",
       "    <tr>\n",
       "      <th>30755</th>\n",
       "      <td>76.788818</td>\n",
       "      <td>351.063171</td>\n",
       "      <td>14.0</td>\n",
       "      <td>4.0</td>\n",
       "      <td>1.000000e+11</td>\n",
       "      <td>0.0</td>\n",
       "      <td>64.228195</td>\n",
       "      <td>2.0</td>\n",
       "      <td>1.0</td>\n",
       "      <td>0.0</td>\n",
       "      <td>3.999999</td>\n",
       "      <td>0.666667</td>\n",
       "      <td>0.464736</td>\n",
       "      <td>0.464736</td>\n",
       "      <td>2.151758</td>\n",
       "      <td>243.850006</td>\n",
       "      <td>1.736573</td>\n",
       "      <td>POINT (-8.93683 76.78882)</td>\n",
       "    </tr>\n",
       "  </tbody>\n",
       "</table>\n",
       "<p>30756 rows × 18 columns</p>\n",
       "</div>"
      ],
      "text/plain": [
       "                  lat         lon    elev    prs           hgt  press  \\\n",
       "kx  points                                                              \n",
       "120 0      -30.670000   24.000000  1287.0  871.0  1.287000e+03  800.0   \n",
       "    1      -30.670271   23.999821  1287.0  867.0  1.000000e+11  800.0   \n",
       "    2      -30.671200   23.999109  1287.0  855.0  1.000000e+11  800.0   \n",
       "    3      -30.671721   23.998690  1287.0  850.0  1.508000e+03  800.0   \n",
       "    4      -30.675381   23.996031  1287.0  819.0  1.000000e+11  800.0   \n",
       "...               ...         ...     ...    ...           ...    ...   \n",
       "    30751   76.829857  349.991333    14.0    5.8  1.000000e+11    0.0   \n",
       "    30752   76.822647  350.371216    14.0    5.1  1.000000e+11    0.0   \n",
       "    30753   76.809792  350.601929    14.0    4.7  1.000000e+11    0.0   \n",
       "    30754   76.791122  350.984192    14.0    4.1  1.000000e+11    0.0   \n",
       "    30755   76.788818  351.063171    14.0    4.0  1.000000e+11    0.0   \n",
       "\n",
       "                 time  idqc  iuse  iusev     wpbqc   inp_err   adj_err  \\\n",
       "kx  points                                                               \n",
       "120 0      -45.000000   2.0   1.0    0.0  3.999999  1.250000  0.980566   \n",
       "    1      -44.865601   2.0   1.0    0.0  3.850856  1.250000  0.849141   \n",
       "    2      -44.461800   2.0   1.0    0.0  3.989482  1.250000  0.880636   \n",
       "    3      -44.263199   2.0   1.0    0.0  3.991446  1.250000  1.004662   \n",
       "    4      -43.195198   2.0   1.0    0.0  3.996317  1.250000  1.250000   \n",
       "...               ...   ...   ...    ...       ...       ...       ...   \n",
       "    30751   55.483200   2.0   1.0    0.0  3.999999  0.666667  0.489252   \n",
       "    30752   58.462799   2.0   1.0    0.0  3.999996  0.666667  0.555556   \n",
       "    30753   60.394798   2.0   1.0    0.0  3.830203  0.666667  0.555556   \n",
       "    30754   63.643196   2.0   1.0    0.0  3.999999  0.666667  0.463115   \n",
       "    30755   64.228195   2.0   1.0    0.0  3.999999  0.666667  0.464736   \n",
       "\n",
       "              inverr       oer         obs       omf  \\\n",
       "kx  points                                             \n",
       "120 0       0.266639  3.750382  300.649994 -0.785228   \n",
       "    1       0.849141  1.177661  297.450012 -3.986862   \n",
       "    2       0.880636  1.135542  296.450012 -3.529222   \n",
       "    3       1.004662  0.995360  295.950012 -3.491445   \n",
       "    4       1.250000  0.800000  292.850006 -3.333173   \n",
       "...              ...       ...         ...       ...   \n",
       "    30751   0.489252  2.043936  235.649994  1.432701   \n",
       "    30752   0.555556  1.800000  238.850006  2.843098   \n",
       "    30753   0.555556  1.800000  245.449997  7.515910   \n",
       "    30754   0.463115  2.159289  241.649994  0.165799   \n",
       "    30755   0.464736  2.151758  243.850006  1.736573   \n",
       "\n",
       "                              geometry  \n",
       "kx  points                              \n",
       "120 0       POINT (24.00000 -30.67000)  \n",
       "    1       POINT (23.99982 -30.67027)  \n",
       "    2       POINT (23.99911 -30.67120)  \n",
       "    3       POINT (23.99869 -30.67172)  \n",
       "    4       POINT (23.99603 -30.67538)  \n",
       "...                                ...  \n",
       "    30751   POINT (-10.00867 76.82986)  \n",
       "    30752    POINT (-9.62878 76.82265)  \n",
       "    30753    POINT (-9.39807 76.80979)  \n",
       "    30754    POINT (-9.01581 76.79112)  \n",
       "    30755    POINT (-8.93683 76.78882)  \n",
       "\n",
       "[30756 rows x 18 columns]"
      ]
     },
     "execution_count": 50,
     "metadata": {},
     "output_type": "execute_result"
    }
   ],
   "source": [
    "df_t.iloc[df_t.index.get_level_values('kx') == 120]"
   ]
  },
  {
   "cell_type": "markdown",
   "metadata": {},
   "source": [
    "As the same way we did before, we will create another variable `df_t120` wich will hold the information of the temperature observation of the kind 120:"
   ]
  },
  {
   "cell_type": "code",
   "execution_count": 51,
   "metadata": {},
   "outputs": [],
   "source": [
    "df_t120 = df_t.iloc[df_t.index.get_level_values('kx') == 120]"
   ]
  },
  {
   "cell_type": "markdown",
   "metadata": {},
   "source": [
    "In order to print the shape of the dataframe, you may issue:"
   ]
  },
  {
   "cell_type": "code",
   "execution_count": 52,
   "metadata": {},
   "outputs": [
    {
     "data": {
      "text/plain": [
       "(30756, 18)"
      ]
     },
     "execution_count": 52,
     "metadata": {},
     "output_type": "execute_result"
    }
   ],
   "source": [
    "df_t120.shape"
   ]
  },
  {
   "cell_type": "markdown",
   "metadata": {},
   "source": [
    "In the same way, to print the names of the columns:"
   ]
  },
  {
   "cell_type": "code",
   "execution_count": 54,
   "metadata": {},
   "outputs": [
    {
     "data": {
      "text/plain": [
       "Index(['lat', 'lon', 'elev', 'prs', 'hgt', 'press', 'time', 'idqc', 'iuse',\n",
       "       'iusev', 'wpbqc', 'inp_err', 'adj_err', 'inverr', 'oer', 'obs', 'omf',\n",
       "       'geometry'],\n",
       "      dtype='object')"
      ]
     },
     "execution_count": 54,
     "metadata": {},
     "output_type": "execute_result"
    }
   ],
   "source": [
    "df_t120.columns"
   ]
  },
  {
   "cell_type": "markdown",
   "metadata": {},
   "source": [
    "In order to print the head (i.e., the first few lines) of the dataframe:"
   ]
  },
  {
   "cell_type": "code",
   "execution_count": 58,
   "metadata": {},
   "outputs": [
    {
     "data": {
      "text/html": [
       "<div>\n",
       "<style scoped>\n",
       "    .dataframe tbody tr th:only-of-type {\n",
       "        vertical-align: middle;\n",
       "    }\n",
       "\n",
       "    .dataframe tbody tr th {\n",
       "        vertical-align: top;\n",
       "    }\n",
       "\n",
       "    .dataframe thead th {\n",
       "        text-align: right;\n",
       "    }\n",
       "</style>\n",
       "<table border=\"1\" class=\"dataframe\">\n",
       "  <thead>\n",
       "    <tr style=\"text-align: right;\">\n",
       "      <th></th>\n",
       "      <th></th>\n",
       "      <th>lat</th>\n",
       "      <th>lon</th>\n",
       "      <th>elev</th>\n",
       "      <th>prs</th>\n",
       "      <th>hgt</th>\n",
       "      <th>press</th>\n",
       "      <th>time</th>\n",
       "      <th>idqc</th>\n",
       "      <th>iuse</th>\n",
       "      <th>iusev</th>\n",
       "      <th>wpbqc</th>\n",
       "      <th>inp_err</th>\n",
       "      <th>adj_err</th>\n",
       "      <th>inverr</th>\n",
       "      <th>oer</th>\n",
       "      <th>obs</th>\n",
       "      <th>omf</th>\n",
       "      <th>geometry</th>\n",
       "    </tr>\n",
       "    <tr>\n",
       "      <th>kx</th>\n",
       "      <th>points</th>\n",
       "      <th></th>\n",
       "      <th></th>\n",
       "      <th></th>\n",
       "      <th></th>\n",
       "      <th></th>\n",
       "      <th></th>\n",
       "      <th></th>\n",
       "      <th></th>\n",
       "      <th></th>\n",
       "      <th></th>\n",
       "      <th></th>\n",
       "      <th></th>\n",
       "      <th></th>\n",
       "      <th></th>\n",
       "      <th></th>\n",
       "      <th></th>\n",
       "      <th></th>\n",
       "      <th></th>\n",
       "    </tr>\n",
       "  </thead>\n",
       "  <tbody>\n",
       "    <tr>\n",
       "      <th rowspan=\"5\" valign=\"top\">120</th>\n",
       "      <th>0</th>\n",
       "      <td>-30.670000</td>\n",
       "      <td>24.000000</td>\n",
       "      <td>1287.0</td>\n",
       "      <td>871.0</td>\n",
       "      <td>1.287000e+03</td>\n",
       "      <td>800.0</td>\n",
       "      <td>-45.000000</td>\n",
       "      <td>2.0</td>\n",
       "      <td>1.0</td>\n",
       "      <td>0.0</td>\n",
       "      <td>3.999999</td>\n",
       "      <td>1.25</td>\n",
       "      <td>0.980566</td>\n",
       "      <td>0.266639</td>\n",
       "      <td>3.750382</td>\n",
       "      <td>300.649994</td>\n",
       "      <td>-0.785228</td>\n",
       "      <td>POINT (24.00000 -30.67000)</td>\n",
       "    </tr>\n",
       "    <tr>\n",
       "      <th>1</th>\n",
       "      <td>-30.670271</td>\n",
       "      <td>23.999821</td>\n",
       "      <td>1287.0</td>\n",
       "      <td>867.0</td>\n",
       "      <td>1.000000e+11</td>\n",
       "      <td>800.0</td>\n",
       "      <td>-44.865601</td>\n",
       "      <td>2.0</td>\n",
       "      <td>1.0</td>\n",
       "      <td>0.0</td>\n",
       "      <td>3.850856</td>\n",
       "      <td>1.25</td>\n",
       "      <td>0.849141</td>\n",
       "      <td>0.849141</td>\n",
       "      <td>1.177661</td>\n",
       "      <td>297.450012</td>\n",
       "      <td>-3.986862</td>\n",
       "      <td>POINT (23.99982 -30.67027)</td>\n",
       "    </tr>\n",
       "    <tr>\n",
       "      <th>2</th>\n",
       "      <td>-30.671200</td>\n",
       "      <td>23.999109</td>\n",
       "      <td>1287.0</td>\n",
       "      <td>855.0</td>\n",
       "      <td>1.000000e+11</td>\n",
       "      <td>800.0</td>\n",
       "      <td>-44.461800</td>\n",
       "      <td>2.0</td>\n",
       "      <td>1.0</td>\n",
       "      <td>0.0</td>\n",
       "      <td>3.989482</td>\n",
       "      <td>1.25</td>\n",
       "      <td>0.880636</td>\n",
       "      <td>0.880636</td>\n",
       "      <td>1.135542</td>\n",
       "      <td>296.450012</td>\n",
       "      <td>-3.529222</td>\n",
       "      <td>POINT (23.99911 -30.67120)</td>\n",
       "    </tr>\n",
       "    <tr>\n",
       "      <th>3</th>\n",
       "      <td>-30.671721</td>\n",
       "      <td>23.998690</td>\n",
       "      <td>1287.0</td>\n",
       "      <td>850.0</td>\n",
       "      <td>1.508000e+03</td>\n",
       "      <td>800.0</td>\n",
       "      <td>-44.263199</td>\n",
       "      <td>2.0</td>\n",
       "      <td>1.0</td>\n",
       "      <td>0.0</td>\n",
       "      <td>3.991446</td>\n",
       "      <td>1.25</td>\n",
       "      <td>1.004662</td>\n",
       "      <td>1.004662</td>\n",
       "      <td>0.995360</td>\n",
       "      <td>295.950012</td>\n",
       "      <td>-3.491445</td>\n",
       "      <td>POINT (23.99869 -30.67172)</td>\n",
       "    </tr>\n",
       "    <tr>\n",
       "      <th>4</th>\n",
       "      <td>-30.675381</td>\n",
       "      <td>23.996031</td>\n",
       "      <td>1287.0</td>\n",
       "      <td>819.0</td>\n",
       "      <td>1.000000e+11</td>\n",
       "      <td>800.0</td>\n",
       "      <td>-43.195198</td>\n",
       "      <td>2.0</td>\n",
       "      <td>1.0</td>\n",
       "      <td>0.0</td>\n",
       "      <td>3.996317</td>\n",
       "      <td>1.25</td>\n",
       "      <td>1.250000</td>\n",
       "      <td>1.250000</td>\n",
       "      <td>0.800000</td>\n",
       "      <td>292.850006</td>\n",
       "      <td>-3.333173</td>\n",
       "      <td>POINT (23.99603 -30.67538)</td>\n",
       "    </tr>\n",
       "  </tbody>\n",
       "</table>\n",
       "</div>"
      ],
      "text/plain": [
       "                  lat        lon    elev    prs           hgt  press  \\\n",
       "kx  points                                                             \n",
       "120 0      -30.670000  24.000000  1287.0  871.0  1.287000e+03  800.0   \n",
       "    1      -30.670271  23.999821  1287.0  867.0  1.000000e+11  800.0   \n",
       "    2      -30.671200  23.999109  1287.0  855.0  1.000000e+11  800.0   \n",
       "    3      -30.671721  23.998690  1287.0  850.0  1.508000e+03  800.0   \n",
       "    4      -30.675381  23.996031  1287.0  819.0  1.000000e+11  800.0   \n",
       "\n",
       "                 time  idqc  iuse  iusev     wpbqc  inp_err   adj_err  \\\n",
       "kx  points                                                              \n",
       "120 0      -45.000000   2.0   1.0    0.0  3.999999     1.25  0.980566   \n",
       "    1      -44.865601   2.0   1.0    0.0  3.850856     1.25  0.849141   \n",
       "    2      -44.461800   2.0   1.0    0.0  3.989482     1.25  0.880636   \n",
       "    3      -44.263199   2.0   1.0    0.0  3.991446     1.25  1.004662   \n",
       "    4      -43.195198   2.0   1.0    0.0  3.996317     1.25  1.250000   \n",
       "\n",
       "              inverr       oer         obs       omf  \\\n",
       "kx  points                                             \n",
       "120 0       0.266639  3.750382  300.649994 -0.785228   \n",
       "    1       0.849141  1.177661  297.450012 -3.986862   \n",
       "    2       0.880636  1.135542  296.450012 -3.529222   \n",
       "    3       1.004662  0.995360  295.950012 -3.491445   \n",
       "    4       1.250000  0.800000  292.850006 -3.333173   \n",
       "\n",
       "                              geometry  \n",
       "kx  points                              \n",
       "120 0       POINT (24.00000 -30.67000)  \n",
       "    1       POINT (23.99982 -30.67027)  \n",
       "    2       POINT (23.99911 -30.67120)  \n",
       "    3       POINT (23.99869 -30.67172)  \n",
       "    4       POINT (23.99603 -30.67538)  "
      ]
     },
     "execution_count": 58,
     "metadata": {},
     "output_type": "execute_result"
    }
   ],
   "source": [
    "df_t120.head()"
   ]
  },
  {
   "cell_type": "markdown",
   "metadata": {},
   "source": [
    "Let's count the number of observations marked with the `iuse=1` and `iuse=-1`. First, to show the unique values of the `iuse` mark, use the command:"
   ]
  },
  {
   "cell_type": "code",
   "execution_count": 97,
   "metadata": {},
   "outputs": [
    {
     "data": {
      "text/plain": [
       "array([ 1., -1.], dtype=float32)"
      ]
     },
     "execution_count": 97,
     "metadata": {},
     "output_type": "execute_result"
    }
   ],
   "source": [
    "df_t120['iuse'].unique()"
   ]
  },
  {
   "cell_type": "markdown",
   "metadata": {},
   "source": [
    "Below, the `dt_120_iuse` is a variable wich holds just the `iuse` column of the `df_t120` dataframe:"
   ]
  },
  {
   "cell_type": "code",
   "execution_count": 87,
   "metadata": {},
   "outputs": [],
   "source": [
    "df_t120_iuse = df_t120['iuse']"
   ]
  },
  {
   "cell_type": "markdown",
   "metadata": {},
   "source": [
    "To count the number of temperature observations of the kind 120 marked with the flag `iuse=1` (used) and `iused=-1` (not used), use the pandas `count()` method:"
   ]
  },
  {
   "cell_type": "code",
   "execution_count": 98,
   "metadata": {},
   "outputs": [
    {
     "data": {
      "text/plain": [
       "30572"
      ]
     },
     "execution_count": 98,
     "metadata": {},
     "output_type": "execute_result"
    }
   ],
   "source": [
    "df_t120_iuse.loc[df_t120['iuse'] == 1].count()"
   ]
  },
  {
   "cell_type": "code",
   "execution_count": 99,
   "metadata": {},
   "outputs": [
    {
     "data": {
      "text/plain": [
       "184"
      ]
     },
     "execution_count": 99,
     "metadata": {},
     "output_type": "execute_result"
    }
   ],
   "source": [
    "df_t120_iuse.loc[df_t120['iuse'] == -1].count()"
   ]
  },
  {
   "cell_type": "markdown",
   "metadata": {},
   "source": [
    "Note that the `30572 + 184 = 30756` accounts for the total number of rows of the `df_t120` dataframe (which accounts for the total number of observations)."
   ]
  },
  {
   "cell_type": "code",
   "execution_count": 100,
   "metadata": {},
   "outputs": [
    {
     "data": {
      "text/plain": [
       "kx   points\n",
       "120  0        -0.785228\n",
       "     1        -3.986862\n",
       "     2        -3.529222\n",
       "     3        -3.491445\n",
       "     4        -3.333173\n",
       "                 ...   \n",
       "     30751     1.432701\n",
       "     30752     2.843098\n",
       "     30753     7.515910\n",
       "     30754     0.165799\n",
       "     30755     1.736573\n",
       "Name: omf, Length: 30572, dtype: float32"
      ]
     },
     "execution_count": 100,
     "metadata": {},
     "output_type": "execute_result"
    }
   ],
   "source": [
    "df_t120['omf'].loc[df_t120_iuse == 1]"
   ]
  },
  {
   "cell_type": "code",
   "execution_count": 109,
   "metadata": {},
   "outputs": [
    {
     "data": {
      "text/plain": [
       "kx   points\n",
       "120  0         POINT (24.00000 -30.67000)\n",
       "     1         POINT (23.99982 -30.67027)\n",
       "     2         POINT (23.99911 -30.67120)\n",
       "     3         POINT (23.99869 -30.67172)\n",
       "     4         POINT (23.99603 -30.67538)\n",
       "                          ...            \n",
       "     30751     POINT (-10.00867 76.82986)\n",
       "     30752      POINT (-9.62878 76.82265)\n",
       "     30753      POINT (-9.39807 76.80979)\n",
       "     30754      POINT (-9.01581 76.79112)\n",
       "     30755      POINT (-8.93683 76.78882)\n",
       "Name: geometry, Length: 30572, dtype: geometry"
      ]
     },
     "execution_count": 109,
     "metadata": {},
     "output_type": "execute_result"
    }
   ],
   "source": [
    "df_t120['geometry'].loc[df_t120_iuse == 1]"
   ]
  },
  {
   "cell_type": "code",
   "execution_count": 112,
   "metadata": {},
   "outputs": [
    {
     "data": {
      "text/plain": [
       "kx   points\n",
       "120  0         1287.0\n",
       "     1         1287.0\n",
       "     2         1287.0\n",
       "     3         1287.0\n",
       "     4         1287.0\n",
       "                ...  \n",
       "     30751       14.0\n",
       "     30752       14.0\n",
       "     30753       14.0\n",
       "     30754       14.0\n",
       "     30755       14.0\n",
       "Name: elev, Length: 30572, dtype: float32"
      ]
     },
     "execution_count": 112,
     "metadata": {},
     "output_type": "execute_result"
    }
   ],
   "source": [
    "df_t120['elev'].loc[df_t120_iuse == 1]"
   ]
  },
  {
   "cell_type": "code",
   "execution_count": 125,
   "metadata": {},
   "outputs": [],
   "source": [
    "df_t120_omf_iuse1 = df_t120['omf'].loc[df_t120_iuse == 1]"
   ]
  },
  {
   "cell_type": "code",
   "execution_count": 126,
   "metadata": {},
   "outputs": [
    {
     "data": {
      "text/plain": [
       "kx   points\n",
       "120  0        -0.785228\n",
       "     1        -3.986862\n",
       "     2        -3.529222\n",
       "     3        -3.491445\n",
       "     4        -3.333173\n",
       "                 ...   \n",
       "     30751     1.432701\n",
       "     30752     2.843098\n",
       "     30753     7.515910\n",
       "     30754     0.165799\n",
       "     30755     1.736573\n",
       "Name: omf, Length: 30572, dtype: float32"
      ]
     },
     "execution_count": 126,
     "metadata": {},
     "output_type": "execute_result"
    }
   ],
   "source": [
    "df_t120_omf_iuse1"
   ]
  },
  {
   "cell_type": "code",
   "execution_count": 127,
   "metadata": {},
   "outputs": [
    {
     "data": {
      "text/plain": [
       "<matplotlib.axes._subplots.AxesSubplot at 0x7fcb343b0390>"
      ]
     },
     "execution_count": 127,
     "metadata": {},
     "output_type": "execute_result"
    },
    {
     "data": {
      "image/png": "[encoded data removed]",
      "text/plain": [
       "<Figure size 576x396 with 1 Axes>"
      ]
     },
     "metadata": {},
     "output_type": "display_data"
    }
   ],
   "source": [
    "df_t120_omf_iuse1.plot()"
   ]
  },
  {
   "cell_type": "code",
   "execution_count": 81,
   "metadata": {},
   "outputs": [
    {
     "data": {
      "text/plain": [
       "30572.0"
      ]
     },
     "execution_count": 81,
     "metadata": {},
     "output_type": "execute_result"
    }
   ],
   "source": [
    "df_t120_iuse['iuse'].sum()"
   ]
  },
  {
   "cell_type": "code",
   "execution_count": 74,
   "metadata": {},
   "outputs": [
    {
     "name": "stderr",
     "output_type": "stream",
     "text": [
      "/home/carlos/miniconda3/envs/readDiag/lib/python3.7/site-packages/ipykernel_launcher.py:1: FutureWarning: Dropping of nuisance columns in DataFrame reductions (with 'numeric_only=None') is deprecated; in a future version this will raise TypeError.  Select only valid columns before calling the reduction.\n",
      "  \"\"\"Entry point for launching an IPython kernel.\n"
     ]
    },
    {
     "data": {
      "text/plain": [
       "lat        9.629433e+05\n",
       "lon        5.385009e+06\n",
       "elev       1.033342e+07\n",
       "prs        1.121767e+07\n",
       "hgt        2.142045e+15\n",
       "press      1.034970e+07\n",
       "time      -2.064508e+05\n",
       "idqc       6.349400e+04\n",
       "iuse       3.038800e+04\n",
       "iusev      1.748600e+04\n",
       "wpbqc      1.206335e+05\n",
       "inp_err    3.318787e+04\n",
       "adj_err    2.758486e+04\n",
       "inverr     2.702612e+04\n",
       "oer       -1.600000e+16\n",
       "obs        7.332608e+06\n",
       "omf        5.763284e+03\n",
       "dtype: float32"
      ]
     },
     "execution_count": 74,
     "metadata": {},
     "output_type": "execute_result"
    }
   ],
   "source": [
    "df_t120.sum()"
   ]
  },
  {
   "cell_type": "markdown",
   "metadata": {},
   "source": [
    "Finds the minima of a specific observation and type in the dataframe (columnwise):"
   ]
  },
  {
   "cell_type": "code",
   "execution_count": null,
   "metadata": {},
   "outputs": [],
   "source": [
    "df_t120.min()"
   ]
  },
  {
   "cell_type": "markdown",
   "metadata": {},
   "source": [
    "Finds the maxima of a specific observation and type in the dataframe (columnwise):"
   ]
  },
  {
   "cell_type": "code",
   "execution_count": null,
   "metadata": {},
   "outputs": [],
   "source": [
    "df_t120.max()"
   ]
  },
  {
   "cell_type": "markdown",
   "metadata": {},
   "source": [
    "Finds the index of the minima for a specific observation and type (columnwise):"
   ]
  },
  {
   "cell_type": "code",
   "execution_count": null,
   "metadata": {},
   "outputs": [],
   "source": [
    "df_t120.min()"
   ]
  },
  {
   "cell_type": "markdown",
   "metadata": {},
   "source": [
    "Finds the index of the maxima for a specific observation and type (columnwise):"
   ]
  },
  {
   "cell_type": "markdown",
   "metadata": {},
   "source": [
    "Gets a statistical description of the data for a specific observation and type:"
   ]
  },
  {
   "cell_type": "code",
   "execution_count": null,
   "metadata": {},
   "outputs": [],
   "source": [
    "df_t120.describe()"
   ]
  },
  {
   "cell_type": "markdown",
   "metadata": {},
   "source": [
    "Gets the mean of a specific observation and type (columnwise):"
   ]
  },
  {
   "cell_type": "code",
   "execution_count": null,
   "metadata": {},
   "outputs": [],
   "source": [
    "df_t120.mean()"
   ]
  },
  {
   "cell_type": "markdown",
   "metadata": {},
   "source": [
    "Gets the median of a specific observation and type (columnwise):"
   ]
  },
  {
   "cell_type": "code",
   "execution_count": null,
   "metadata": {
    "scrolled": false
   },
   "outputs": [],
   "source": [
    "df_t120.median()"
   ]
  },
  {
   "cell_type": "markdown",
   "metadata": {},
   "source": [
    "### Data selection\n",
    "\n",
    "Within a Pandas' dataframe, use the \"loc\" method to select indexes and columns."
   ]
  },
  {
   "cell_type": "markdown",
   "metadata": {},
   "source": [
    "Selects the all indexes from column \"omf\" for a specific observation and type (columnwise):"
   ]
  },
  {
   "cell_type": "code",
   "execution_count": null,
   "metadata": {},
   "outputs": [],
   "source": [
    "df_t120.columns"
   ]
  },
  {
   "cell_type": "code",
   "execution_count": null,
   "metadata": {},
   "outputs": [],
   "source": [
    "df_t120.loc[:,'omf']"
   ]
  },
  {
   "cell_type": "code",
   "execution_count": null,
   "metadata": {},
   "outputs": [],
   "source": [
    "df_t120.loc[:,'elev']"
   ]
  },
  {
   "cell_type": "code",
   "execution_count": null,
   "metadata": {},
   "outputs": [],
   "source": [
    "df_t120.loc[:,'prs']"
   ]
  },
  {
   "cell_type": "code",
   "execution_count": null,
   "metadata": {},
   "outputs": [],
   "source": [
    "df_t120.loc[:,'iuse']"
   ]
  },
  {
   "cell_type": "code",
   "execution_count": null,
   "metadata": {},
   "outputs": [],
   "source": [
    "df_t120.loc[:,'iuse']"
   ]
  },
  {
   "cell_type": "markdown",
   "metadata": {},
   "source": [
    "## Making spatial plots using readdiag's builtin functions\n",
    "\n",
    "Until here, all methods and functions from the readdiag fortran/python interface have been used to explore the diagnostic information by means of appropriated data structures. But one of the most useful its functions, is the capability to plot the data. Let's take a look at it.\n",
    "\n",
    "First, load the basemap toolkit:"
   ]
  },
  {
   "cell_type": "markdown",
   "metadata": {},
   "source": [
    "Use the builtin function \"ptmap()\" to plot the spatial distribution of the observations by type (kx):"
   ]
  },
  {
   "cell_type": "code",
   "execution_count": null,
   "metadata": {},
   "outputs": [],
   "source": [
    "print(file.ptmap.__doc__)"
   ]
  },
  {
   "cell_type": "code",
   "execution_count": null,
   "metadata": {},
   "outputs": [],
   "source": [
    "%%time\n",
    "\n",
    "file.ptmap('uv')"
   ]
  },
  {
   "cell_type": "markdown",
   "metadata": {},
   "source": [
    "**Note:** In the previous figure, the title should be read as _Distribution of data sources considered into assimilation_ and the produced legend should be read as _uv-253 | EUMETSAT IR and VIS below 850_."
   ]
  },
  {
   "cell_type": "markdown",
   "metadata": {},
   "source": [
    "As the builtin function `ptmap()` uses the information about the observation and its kind (`kx`), it is also possible to pass a list of `kx` related to that observation type. Remember that you can use the builtin function `pfileinfo()` to retrieve the `kx` of each existing observation:"
   ]
  },
  {
   "cell_type": "code",
   "execution_count": null,
   "metadata": {},
   "outputs": [],
   "source": [
    "file.ptmap('uv', [253, 259, 243, 242])"
   ]
  },
  {
   "cell_type": "markdown",
   "metadata": {},
   "source": [
    "**Note:** In the previous figure, the title should be read as _Distribution of data sources considered into assimilation_ and the produced legend should be read as _uv-253 | EUMETSAT IR and VIS below 850_; _uv-247 | NESDID Water vapour channel all levels DEEP Layer (GOES)_; _uv-259 | MODIS VAPOR All Levels DEEP (AQUA/TERRA)_; _uv-243 | EUMETSAT IR and VIS below 850_ and _uv-242 | JMA IR and VIS Drift below 850 (GMS,MTSAT,HIMAWARI)_."
   ]
  },
  {
   "cell_type": "markdown",
   "metadata": {},
   "source": [
    "Another interesting builtin function available, is the function `pvmap()`, which plots the spatial distribution of different observations considering all the different types (`kx`). In this case, it is needed to specify the status of the observation to be plotted, i.e., (1) used and (-1) monitored. The statuses of the observations must be passed as a list with at least one element:"
   ]
  },
  {
   "cell_type": "code",
   "execution_count": null,
   "metadata": {},
   "outputs": [],
   "source": [
    "print(file.pvmap.__doc__)"
   ]
  },
  {
   "cell_type": "code",
   "execution_count": null,
   "metadata": {},
   "outputs": [],
   "source": [
    "%%time\n",
    "\n",
    "file.pvmap(['uv','ps','t','q'], mask='iuse==1')"
   ]
  },
  {
   "cell_type": "markdown",
   "metadata": {},
   "source": [
    "**Note:** In the previous figures, the titles should be read as (top) _Variables considered into assimilation (used)_ and (bottom) _Variables used into assimilation (monitored)_."
   ]
  },
  {
   "cell_type": "markdown",
   "metadata": {},
   "source": [
    "The readdiag fortran/python interface, has also the builtin `pgeomap()` function. This function plots the spatial distribution of variables using one of the columns of the `GTable_df` dataframe (altought it does not use the dataframe itself to make the plot):"
   ]
  },
  {
   "cell_type": "code",
   "execution_count": null,
   "metadata": {},
   "outputs": [],
   "source": [
    "print(file.plot.__doc__)"
   ]
  },
  {
   "cell_type": "code",
   "execution_count": null,
   "metadata": {},
   "outputs": [],
   "source": [
    "%%time \n",
    "\n",
    "file.plot('ps', 187, 'obs', mask='iuse==1')"
   ]
  },
  {
   "cell_type": "markdown",
   "metadata": {},
   "source": [
    "**Note:** In the previous figure, the title should be read as _Date: 2013010100 | Conventional | Filter: omf_."
   ]
  },
  {
   "cell_type": "code",
   "execution_count": null,
   "metadata": {},
   "outputs": [],
   "source": [
    "file.close()"
   ]
  },
  {
   "cell_type": "code",
   "execution_count": null,
   "metadata": {},
   "outputs": [],
   "source": []
  }
 ],
 "metadata": {
  "kernelspec": {
   "display_name": "Python 3 (ipykernel)",
   "language": "python",
   "name": "python3"
  },
  "language_info": {
   "codemirror_mode": {
    "name": "ipython",
    "version": 3
   },
   "file_extension": ".py",
   "mimetype": "text/x-python",
   "name": "python",
   "nbconvert_exporter": "python",
   "pygments_lexer": "ipython3",
   "version": "3.7.6"
  }
 },
 "nbformat": 4,
 "nbformat_minor": 2
}
